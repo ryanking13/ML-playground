{
 "cells": [
  {
   "cell_type": "code",
   "execution_count": 10,
   "metadata": {},
   "outputs": [],
   "source": [
    "import torch\n",
    "import numpy as np\n",
    "from sklearn.datasets import make_blobs\n",
    "import matplotlib.pyplot as plt\n",
    "import torch.nn.functional as F"
   ]
  },
  {
   "cell_type": "code",
   "execution_count": 11,
   "metadata": {},
   "outputs": [],
   "source": [
    "n_dim = 2\n",
    "x_train, y_train = make_blobs(n_samples=80, n_features=n_dim, centers=[[1, 1], [-1,-1], [1, -1], [-1, 1]], shuffle=True, cluster_std=0.3)\n",
    "x_test, y_test = make_blobs(n_samples=30, n_features=n_dim, centers=[[1, 1], [-1,-1], [1, -1], [-1, 1]], shuffle=True, cluster_std=0.3)"
   ]
  },
  {
   "cell_type": "code",
   "execution_count": 12,
   "metadata": {},
   "outputs": [],
   "source": [
    "def label_map(y_, from_, to_):\n",
    "    y = np.copy(y_)\n",
    "    for f in from_:\n",
    "        y[y_ == f] = to_\n",
    "    return y\n",
    "\n",
    "y_train = label_map(y_train, (0, 1), 0)\n",
    "y_train = label_map(y_train, (2, 3), 1)\n",
    "y_test = label_map(y_test, (0, 1), 0)\n",
    "y_test = label_map(y_test, (2, 3), 1)"
   ]
  },
  {
   "cell_type": "code",
   "execution_count": 16,
   "metadata": {},
   "outputs": [
    {
     "data": {
      "image/png": "[encoded data removed]",
      "text/plain": [
       "<Figure size 432x288 with 1 Axes>"
      ]
     },
     "metadata": {
      "needs_background": "light"
     },
     "output_type": "display_data"
    }
   ],
   "source": [
    "def vis_data(x, y = None, c = 'r'):\n",
    "    if y is None:\n",
    "        y = [None] * len(x)\n",
    "    for x_, y_ in zip(x, y):\n",
    "        if y_ is None:\n",
    "            plt.plot(x_[0], x_[1], '*', markerfacecolor='none', markeredgecolor=c)\n",
    "        else:\n",
    "            plt.plot(x_[0], x_[1], c+'o' if y_ == 0 else c+'+')\n",
    "\n",
    "plt.figure()\n",
    "vis_data(x_train, y_train, c='r')\n",
    "plt.show()"
   ]
  },
  {
   "cell_type": "code",
   "execution_count": 17,
   "metadata": {},
   "outputs": [],
   "source": [
    "x_train = torch.FloatTensor(x_train)\n",
    "x_test = torch.FloatTensor(x_test)\n",
    "y_train = torch.FloatTensor(y_train)\n",
    "y_test = torch.FloatTensor(y_test)"
   ]
  },
  {
   "cell_type": "code",
   "execution_count": 18,
   "metadata": {},
   "outputs": [],
   "source": [
    "class NeuralNet(torch.nn.Module):\n",
    "    def __init__(self, input_size, hidden_size):\n",
    "        super().__init__()\n",
    "        self.input_size = input_size\n",
    "        self.hidden_size = hidden_size\n",
    "        \n",
    "        self.linear_1 = torch.nn.Linear(self.input_size, self.hidden_size)\n",
    "        self.relu = torch.nn.ReLU()\n",
    "        self.linear_2 = torch.nn.Linear(self.hidden_size, 1)\n",
    "        self.sigmoid = torch.nn.Sigmoid()\n",
    "    \n",
    "    def forward(self, input_tensor):\n",
    "        linear1 = self.linear_1(input_tensor)\n",
    "        relu = self.relu(linear1)\n",
    "        linear2 = self.linear_2(relu)\n",
    "        output = self.sigmoid(linear2)\n",
    "        return output"
   ]
  },
  {
   "cell_type": "code",
   "execution_count": 19,
   "metadata": {},
   "outputs": [],
   "source": [
    "model = NeuralNet(2, 5)\n",
    "learning_rate = 0.03\n",
    "criterion = torch.nn.BCELoss()\n",
    "epochs = 2000\n",
    "optimizer = torch.optim.SGD(model.parameters(), lr = learning_rate)"
   ]
  },
  {
   "cell_type": "code",
   "execution_count": 23,
   "metadata": {},
   "outputs": [
    {
     "name": "stdout",
     "output_type": "stream",
     "text": [
      "torch.Size([30, 1])\n",
      "Before Training, test loss is 0.6875680088996887\n"
     ]
    }
   ],
   "source": [
    "model.eval()\n",
    "test_loss_before = criterion(model(x_test).squeeze(), y_test)\n",
    "print(model(x_test).shape)\n",
    "print(f\"Before Training, test loss is {test_loss_before.item()}\")"
   ]
  },
  {
   "cell_type": "code",
   "execution_count": 26,
   "metadata": {},
   "outputs": [
    {
     "name": "stdout",
     "output_type": "stream",
     "text": [
      "Train loss at 0 is 0.7026106119155884\n",
      "Train loss at 100 is 0.6502019762992859\n",
      "Train loss at 200 is 0.6010618209838867\n",
      "Train loss at 300 is 0.539117693901062\n",
      "Train loss at 400 is 0.4661683142185211\n",
      "Train loss at 500 is 0.3926517367362976\n",
      "Train loss at 600 is 0.3273962736129761\n",
      "Train loss at 700 is 0.27359992265701294\n",
      "Train loss at 800 is 0.23090782761573792\n",
      "Train loss at 900 is 0.1975284367799759\n",
      "Train loss at 1000 is 0.17149882018566132\n",
      "Train loss at 1100 is 0.1510418802499771\n",
      "Train loss at 1200 is 0.13477212190628052\n",
      "Train loss at 1300 is 0.12166639417409897\n",
      "Train loss at 1400 is 0.11095176637172699\n",
      "Train loss at 1500 is 0.10205866396427155\n",
      "Train loss at 1600 is 0.09458605945110321\n",
      "Train loss at 1700 is 0.08822625130414963\n",
      "Train loss at 1800 is 0.08274848014116287\n",
      "Train loss at 1900 is 0.07799090445041656\n"
     ]
    }
   ],
   "source": [
    "for epoch in range(epochs):\n",
    "    model.train()\n",
    "    optimizer.zero_grad()\n",
    "    train_output = model(x_train)\n",
    "    loss = criterion(train_output.squeeze(), y_train)\n",
    "    if epoch % 100 == 0:\n",
    "        print(f\"Train loss at {epoch} is {loss.item()}\")\n",
    "    \n",
    "    loss.backward()\n",
    "    optimizer.step()"
   ]
  },
  {
   "cell_type": "code",
   "execution_count": 30,
   "metadata": {},
   "outputs": [
    {
     "name": "stdout",
     "output_type": "stream",
     "text": [
      "state_dict format of the model: OrderedDict([('linear_1.weight', tensor([[ 1.7793,  1.8253],\n",
      "        [-0.3615, -0.1712],\n",
      "        [-1.9015, -1.9856],\n",
      "        [-0.4744, -0.7079],\n",
      "        [ 0.0395, -0.3005]])), ('linear_1.bias', tensor([-0.6300,  1.4766, -0.2545,  0.4858, -0.6278])), ('linear_2.weight', tensor([[-2.6362,  1.4281, -2.7192,  0.0181,  0.2938]])), ('linear_2.bias', tensor([1.6161]))])\n",
      "0.9820325970649719\n"
     ]
    }
   ],
   "source": [
    "torch.save(model.state_dict(), 'model.pt')\n",
    "print(f\"state_dict format of the model: {model.state_dict()}\")\n",
    "\n",
    "new_model = NeuralNet(2, 5)\n",
    "new_model.load_state_dict(torch.load(\"model.pt\"))\n",
    "# new_model.eval()\n",
    "print(new_model(torch.FloatTensor([-1, 1])).item())"
   ]
  },
  {
   "cell_type": "code",
   "execution_count": null,
   "metadata": {},
   "outputs": [],
   "source": []
  }
 ],
 "metadata": {
  "kernelspec": {
   "display_name": "Python 3",
   "language": "python",
   "name": "python3"
  },
  "language_info": {
   "codemirror_mode": {
    "name": "ipython",
    "version": 3
   },
   "file_extension": ".py",
   "mimetype": "text/x-python",
   "name": "python",
   "nbconvert_exporter": "python",
   "pygments_lexer": "ipython3",
   "version": "3.7.6"
  }
 },
 "nbformat": 4,
 "nbformat_minor": 4
}
