{
 "cells": [
  {
   "cell_type": "code",
   "execution_count": 1,
   "metadata": {},
   "outputs": [],
   "source": [
    "import torch\n",
    "import torch.nn as nn\n",
    "import torch.optim as optim\n",
    "import torch.nn.functional as F\n",
    "from torchvision import transforms, datasets"
   ]
  },
  {
   "cell_type": "code",
   "execution_count": 2,
   "metadata": {},
   "outputs": [],
   "source": [
    "USE_CUDA = torch.cuda.is_available()\n",
    "DEVICE = torch.device(\"cuda\" if USE_CUDA else \"cpu\")"
   ]
  },
  {
   "cell_type": "code",
   "execution_count": 3,
   "metadata": {},
   "outputs": [
    {
     "data": {
      "text/plain": [
       "device(type='cpu')"
      ]
     },
     "execution_count": 3,
     "metadata": {},
     "output_type": "execute_result"
    }
   ],
   "source": [
    "DEVICE"
   ]
  },
  {
   "cell_type": "code",
   "execution_count": 4,
   "metadata": {},
   "outputs": [],
   "source": [
    "EPOCHS = 30\n",
    "BATCH_SIZE = 64"
   ]
  },
  {
   "cell_type": "code",
   "execution_count": 12,
   "metadata": {},
   "outputs": [],
   "source": [
    "transform = transforms.Compose([\n",
    "    transforms.ToTensor()\n",
    "])\n",
    "\n",
    "trainset = datasets.FashionMNIST(\n",
    "    root = './data/',\n",
    "    train = True,\n",
    "    download = True,\n",
    "    transform = transform,\n",
    ")\n",
    "\n",
    "testset = datasets.FashionMNIST(\n",
    "    root = './data/',\n",
    "    train = False,\n",
    "    download = True,\n",
    "    transform = transform,\n",
    ")\n",
    "batch_size = 16\n",
    "train_loader = torch.utils.data.DataLoader(\n",
    "    dataset = trainset,\n",
    "    batch_size = batch_size,\n",
    ")\n",
    "test_loader = torch.utils.data.DataLoader(\n",
    "    dataset = testset,\n",
    "    batch_size = batch_size,\n",
    ")"
   ]
  },
  {
   "cell_type": "code",
   "execution_count": 5,
   "metadata": {},
   "outputs": [],
   "source": [
    "class Net(nn.Module):\n",
    "    def __init__(self):\n",
    "        super(Net, self).__init__()\n",
    "        self.fc1 = nn.Linear(784, 256)\n",
    "        self.fc2 = nn.Linear(256, 128)\n",
    "        self.fc3 = nn.Linear(128, 10)\n",
    "    \n",
    "    def forward(self, x):\n",
    "        x = x.view(-1, 784)\n",
    "        x = F.relu(self.fc1(x))\n",
    "        x = F.relu(self.fc2(x))\n",
    "        x = self.fc3(x)\n",
    "        return x\n"
   ]
  },
  {
   "cell_type": "code",
   "execution_count": 6,
   "metadata": {},
   "outputs": [],
   "source": [
    "model = Net().to(DEVICE)\n",
    "optimizer = optim.SGD(model.parameters(), lr=0.01)"
   ]
  },
  {
   "cell_type": "code",
   "execution_count": 7,
   "metadata": {},
   "outputs": [],
   "source": [
    "def train(model, train_loader, optimizer):\n",
    "    model.train()\n",
    "    for batch_idx, (data, target) in enumerate(train_loader):\n",
    "        data, target = data.to(DEVICE), target.to(DEVICE)\n",
    "        optimizer.zero_grad()\n",
    "        output = model(data)\n",
    "        loss = F.cross_entropy(output, target)\n",
    "        loss.backward()\n",
    "        optimizer.step()\n",
    "        "
   ]
  },
  {
   "cell_type": "code",
   "execution_count": 16,
   "metadata": {},
   "outputs": [],
   "source": [
    "def evaluate(model, test_loader):\n",
    "    model.eval()\n",
    "    test_loss = 0\n",
    "    correct = 0\n",
    "    with torch.no_grad():\n",
    "        for data, target in test_loader:\n",
    "            data, target = data.to(DEVICE), target.to(DEVICE)\n",
    "            output = model(data)\n",
    "            test_loss += F.cross_entropy(output, target, reduction='sum').item()\n",
    "            pred = output.max(1, keepdim=True)[1]\n",
    "            correct += pred.eq(target.view_as(pred)).sum().item()\n",
    "        \n",
    "    test_loss /= len(test_loader.dataset)\n",
    "    test_accuracy = 100. * correct / len(test_loader.dataset)\n",
    "    return test_loss, test_accuracy"
   ]
  },
  {
   "cell_type": "code",
   "execution_count": 17,
   "metadata": {},
   "outputs": [
    {
     "name": "stdout",
     "output_type": "stream",
     "text": [
      "[1 Test Loss: 0.4555, Accuracy: 83.7700]\n",
      "[2 Test Loss: 0.4274, Accuracy: 84.6000]\n",
      "[3 Test Loss: 0.4085, Accuracy: 85.4400]\n",
      "[4 Test Loss: 0.3932, Accuracy: 86.0400]\n",
      "[5 Test Loss: 0.3810, Accuracy: 86.3200]\n",
      "[6 Test Loss: 0.3726, Accuracy: 86.5200]\n",
      "[7 Test Loss: 0.3650, Accuracy: 86.8600]\n",
      "[8 Test Loss: 0.3594, Accuracy: 87.1800]\n",
      "[9 Test Loss: 0.3553, Accuracy: 87.3200]\n",
      "[10 Test Loss: 0.3521, Accuracy: 87.4400]\n",
      "[11 Test Loss: 0.3489, Accuracy: 87.7200]\n",
      "[12 Test Loss: 0.3435, Accuracy: 87.9000]\n",
      "[13 Test Loss: 0.3414, Accuracy: 87.8200]\n",
      "[14 Test Loss: 0.3402, Accuracy: 88.0600]\n",
      "[15 Test Loss: 0.3371, Accuracy: 88.1600]\n",
      "[16 Test Loss: 0.3362, Accuracy: 88.3200]\n",
      "[17 Test Loss: 0.3366, Accuracy: 88.2900]\n",
      "[18 Test Loss: 0.3337, Accuracy: 88.5700]\n",
      "[19 Test Loss: 0.3338, Accuracy: 88.6700]\n",
      "[20 Test Loss: 0.3354, Accuracy: 88.5800]\n",
      "[21 Test Loss: 0.3340, Accuracy: 88.7400]\n",
      "[22 Test Loss: 0.3341, Accuracy: 88.7000]\n",
      "[23 Test Loss: 0.3357, Accuracy: 88.5100]\n",
      "[24 Test Loss: 0.3342, Accuracy: 88.6700]\n",
      "[25 Test Loss: 0.3360, Accuracy: 88.6700]\n",
      "[26 Test Loss: 0.3357, Accuracy: 88.8200]\n",
      "[27 Test Loss: 0.3382, Accuracy: 88.6400]\n",
      "[28 Test Loss: 0.3403, Accuracy: 88.4200]\n",
      "[29 Test Loss: 0.3434, Accuracy: 88.4800]\n",
      "[30 Test Loss: 0.3462, Accuracy: 88.5100]\n"
     ]
    }
   ],
   "source": [
    "for epoch in range(1, EPOCHS + 1):\n",
    "    train(model, train_loader, optimizer)\n",
    "    test_loss, test_acc = evaluate(model, test_loader)\n",
    "    \n",
    "    print(f\"[{epoch} Test Loss: {test_loss:.4f}, Accuracy: {test_acc:.4f}]\")"
   ]
  },
  {
   "cell_type": "code",
   "execution_count": 26,
   "metadata": {},
   "outputs": [
    {
     "name": "stdout",
     "output_type": "stream",
     "text": [
      "tensor([9, 2, 1, 1, 6, 1, 4, 6, 5, 7, 4, 5, 7, 3, 4, 1])\n",
      "tensor([[9],\n",
      "        [2],\n",
      "        [1],\n",
      "        [1],\n",
      "        [6],\n",
      "        [1],\n",
      "        [4],\n",
      "        [6],\n",
      "        [5],\n",
      "        [7],\n",
      "        [4],\n",
      "        [5],\n",
      "        [7],\n",
      "        [3],\n",
      "        [4],\n",
      "        [1]])\n"
     ]
    }
   ],
   "source": [
    "with torch.no_grad():\n",
    "    for data, target in test_loader:\n",
    "        data, target = data.to(DEVICE), target.to(DEVICE)\n",
    "        output = model(data)\n",
    "#         print(output)\n",
    "        pred = output.max(1, keepdim=True)[1]\n",
    "#         print(output.max(1)[1])\n",
    "        print(target)\n",
    "        print(target.view_as(pred))\n",
    "        break"
   ]
  },
  {
   "cell_type": "code",
   "execution_count": null,
   "metadata": {},
   "outputs": [],
   "source": []
  }
 ],
 "metadata": {
  "kernelspec": {
   "display_name": "Python 3",
   "language": "python",
   "name": "python3"
  },
  "language_info": {
   "codemirror_mode": {
    "name": "ipython",
    "version": 3
   },
   "file_extension": ".py",
   "mimetype": "text/x-python",
   "name": "python",
   "nbconvert_exporter": "python",
   "pygments_lexer": "ipython3",
   "version": "3.7.6"
  }
 },
 "nbformat": 4,
 "nbformat_minor": 4
}
