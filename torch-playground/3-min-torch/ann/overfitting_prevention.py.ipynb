{
 "cells": [
  {
   "cell_type": "code",
   "execution_count": 2,
   "metadata": {},
   "outputs": [],
   "source": [
    "import torch\n",
    "import torch.nn as nn\n",
    "import torch.optim as optim\n",
    "import torch.nn.functional as F\n",
    "from torchvision import transforms, datasets"
   ]
  },
  {
   "cell_type": "code",
   "execution_count": 4,
   "metadata": {},
   "outputs": [],
   "source": [
    "USE_CUDA = torch.cuda.is_available()\n",
    "DEVICE = torch.device(\"cuda\" if USE_CUDA else \"cpu\")"
   ]
  },
  {
   "cell_type": "code",
   "execution_count": 5,
   "metadata": {},
   "outputs": [],
   "source": [
    "EPOCHS = 50\n",
    "BATCH_SIZE = 64"
   ]
  },
  {
   "cell_type": "code",
   "execution_count": 11,
   "metadata": {},
   "outputs": [],
   "source": [
    "train_loader = torch.utils.data.DataLoader(\n",
    "    datasets.FashionMNIST('./data',\n",
    "                   train=True,\n",
    "                   download=True,\n",
    "                   transform=transforms.Compose([\n",
    "                       transforms.RandomHorizontalFlip(),\n",
    "                       transforms.ToTensor(),\n",
    "#                        transforms.Normalize((0.1307,), (0.3081,))\n",
    "                   ]),\n",
    "                  ),\n",
    "    batch_size=BATCH_SIZE, shuffle=True,\n",
    ")\n",
    "test_loader = torch.utils.data.DataLoader(\n",
    "    datasets.FashionMNIST('./data',\n",
    "                   train=False,\n",
    "                   download=True,\n",
    "                   transform=transforms.Compose([\n",
    "                       transforms.RandomHorizontalFlip(),\n",
    "                       transforms.ToTensor(),\n",
    "#                        transforms.Normalize((0.1307,), (0.3081,))\n",
    "                   ]),\n",
    "                  ),\n",
    "    batch_size=BATCH_SIZE, shuffle=True,\n",
    ")"
   ]
  },
  {
   "cell_type": "code",
   "execution_count": 13,
   "metadata": {},
   "outputs": [],
   "source": [
    "class Net(nn.Module):\n",
    "    def __init__(self, dropout_p=0.2):\n",
    "        super(Net, self).__init__()\n",
    "        self.fc1 = nn.Linear(784, 256)\n",
    "        self.fc2 = nn.Linear(256, 128)\n",
    "        self.fc3 = nn.Linear(128, 10)\n",
    "        self.dropout_p = dropout_p\n",
    "    \n",
    "    def forward(self, x):\n",
    "        x = x.view(-1, 784)\n",
    "        x = F.relu(self.fc1(x))\n",
    "        x = F.dropout(x, training=self.training,\n",
    "                     p=self.dropout_p)\n",
    "        x = F.relu(self.fc2(x))\n",
    "        x = F.dropout(x, training=self.training,\n",
    "                     p=self.dropout_p)\n",
    "        x = self.fc3(x)\n",
    "        return x"
   ]
  },
  {
   "cell_type": "code",
   "execution_count": 14,
   "metadata": {},
   "outputs": [],
   "source": [
    "model = Net(dropout_p = 0.2).to(DEVICE)\n",
    "optimizer = optim.SGD(model.parameters(), lr=0.01)"
   ]
  },
  {
   "cell_type": "code",
   "execution_count": 15,
   "metadata": {},
   "outputs": [],
   "source": [
    "def train(model, train_loader, optimizer):\n",
    "    model.train()\n",
    "    for b_idx, (data, target) in enumerate(train_loader):\n",
    "        data, target = data.to(DEVICE), target.to(DEVICE)\n",
    "        optimizer.zero_grad()\n",
    "        output = model(data)\n",
    "        loss = F.cross_entropy(output, target)\n",
    "        loss.backward()\n",
    "        optimizer.step()\n",
    "\n",
    "def evaluate(model, test_loader):\n",
    "    model.eval()\n",
    "    for b_idx, (data, target) in enumerate(test_loader):\n",
    "        test_loss = 0\n",
    "        correct = 0\n",
    "        with torch.no_grad():\n",
    "            data, target = data.to(DEVICE), target.to(DEVICE)\n",
    "            output = model(data)\n",
    "            test_loss += F.cross_entropy(output, target, reduction='sum').item()\n",
    "            pred = output.max(1, keepdim=True)[1]\n",
    "            correct += pred.eq(target.view_as(pred)).sum().item()\n",
    "        \n",
    "        test_loss /= len(test_loader.dataset)\n",
    "        test_acc = 100. * correct / len(test_loader.dataset)\n",
    "        return test_loss, test_acc\n"
   ]
  },
  {
   "cell_type": "code",
   "execution_count": 16,
   "metadata": {},
   "outputs": [
    {
     "name": "stdout",
     "output_type": "stream",
     "text": [
      "[0 Test Loss: 0.0059, Accuracy: 0.4100]\n",
      "[1 Test Loss: 0.0051, Accuracy: 0.4300]\n",
      "[2 Test Loss: 0.0034, Accuracy: 0.5300]\n",
      "[3 Test Loss: 0.0036, Accuracy: 0.5100]\n",
      "[4 Test Loss: 0.0035, Accuracy: 0.5300]\n",
      "[5 Test Loss: 0.0025, Accuracy: 0.5400]\n",
      "[6 Test Loss: 0.0039, Accuracy: 0.5000]\n",
      "[7 Test Loss: 0.0027, Accuracy: 0.5400]\n",
      "[8 Test Loss: 0.0025, Accuracy: 0.5400]\n",
      "[9 Test Loss: 0.0021, Accuracy: 0.5600]\n",
      "[10 Test Loss: 0.0035, Accuracy: 0.5200]\n",
      "[11 Test Loss: 0.0030, Accuracy: 0.4900]\n",
      "[12 Test Loss: 0.0026, Accuracy: 0.5400]\n",
      "[13 Test Loss: 0.0025, Accuracy: 0.5100]\n",
      "[14 Test Loss: 0.0019, Accuracy: 0.5700]\n",
      "[15 Test Loss: 0.0025, Accuracy: 0.5400]\n",
      "[16 Test Loss: 0.0024, Accuracy: 0.5700]\n",
      "[17 Test Loss: 0.0021, Accuracy: 0.5600]\n",
      "[18 Test Loss: 0.0036, Accuracy: 0.5200]\n",
      "[19 Test Loss: 0.0029, Accuracy: 0.5500]\n",
      "[20 Test Loss: 0.0032, Accuracy: 0.5200]\n",
      "[21 Test Loss: 0.0031, Accuracy: 0.5500]\n",
      "[22 Test Loss: 0.0020, Accuracy: 0.5600]\n",
      "[23 Test Loss: 0.0036, Accuracy: 0.4900]\n",
      "[24 Test Loss: 0.0023, Accuracy: 0.5800]\n",
      "[25 Test Loss: 0.0023, Accuracy: 0.5700]\n",
      "[26 Test Loss: 0.0017, Accuracy: 0.5900]\n",
      "[27 Test Loss: 0.0033, Accuracy: 0.5500]\n",
      "[28 Test Loss: 0.0024, Accuracy: 0.5300]\n",
      "[29 Test Loss: 0.0019, Accuracy: 0.5600]\n",
      "[30 Test Loss: 0.0017, Accuracy: 0.5600]\n",
      "[31 Test Loss: 0.0033, Accuracy: 0.5600]\n",
      "[32 Test Loss: 0.0016, Accuracy: 0.5600]\n",
      "[33 Test Loss: 0.0031, Accuracy: 0.5100]\n",
      "[34 Test Loss: 0.0029, Accuracy: 0.5100]\n",
      "[35 Test Loss: 0.0021, Accuracy: 0.5700]\n",
      "[36 Test Loss: 0.0024, Accuracy: 0.5100]\n",
      "[37 Test Loss: 0.0031, Accuracy: 0.5400]\n",
      "[38 Test Loss: 0.0018, Accuracy: 0.5600]\n",
      "[39 Test Loss: 0.0029, Accuracy: 0.5300]\n",
      "[40 Test Loss: 0.0034, Accuracy: 0.4800]\n",
      "[41 Test Loss: 0.0028, Accuracy: 0.5100]\n",
      "[42 Test Loss: 0.0029, Accuracy: 0.5600]\n",
      "[43 Test Loss: 0.0023, Accuracy: 0.5700]\n",
      "[44 Test Loss: 0.0012, Accuracy: 0.6000]\n",
      "[45 Test Loss: 0.0017, Accuracy: 0.6000]\n",
      "[46 Test Loss: 0.0024, Accuracy: 0.5500]\n",
      "[47 Test Loss: 0.0013, Accuracy: 0.5900]\n",
      "[48 Test Loss: 0.0028, Accuracy: 0.5500]\n",
      "[49 Test Loss: 0.0026, Accuracy: 0.5500]\n"
     ]
    }
   ],
   "source": [
    "for epoch in range(EPOCHS):\n",
    "    train(model, train_loader, optimizer)\n",
    "    test_loss, test_acc = evaluate(model, test_loader)\n",
    "    \n",
    "    print(f\"[{epoch} Test Loss: {test_loss:.4f}, Accuracy: {test_acc:.4f}]\")"
   ]
  },
  {
   "cell_type": "code",
   "execution_count": null,
   "metadata": {},
   "outputs": [],
   "source": []
  }
 ],
 "metadata": {
  "kernelspec": {
   "display_name": "Python 3",
   "language": "python",
   "name": "python3"
  },
  "language_info": {
   "codemirror_mode": {
    "name": "ipython",
    "version": 3
   },
   "file_extension": ".py",
   "mimetype": "text/x-python",
   "name": "python",
   "nbconvert_exporter": "python",
   "pygments_lexer": "ipython3",
   "version": "3.7.6"
  }
 },
 "nbformat": 4,
 "nbformat_minor": 4
}
