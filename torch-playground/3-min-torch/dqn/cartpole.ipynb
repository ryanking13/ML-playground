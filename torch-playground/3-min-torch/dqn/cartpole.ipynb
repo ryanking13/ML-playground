{
 "cells": [
  {
   "cell_type": "code",
   "execution_count": 1,
   "metadata": {},
   "outputs": [
    {
     "name": "stdout",
     "output_type": "stream",
     "text": [
      "Collecting gymNote: you may need to restart the kernel to use updated packages.\n",
      "  Downloading gym-0.17.2.tar.gz (1.6 MB)\n",
      "Collecting scipy\n",
      "  Downloading scipy-1.5.2-cp37-cp37m-win_amd64.whl (31.2 MB)\n",
      "Requirement already satisfied: numpy>=1.10.4 in c:\\users\\acebr\\desktop\\keras-playground\\torch-playground\\venv\\lib\\site-packages (from gym) (1.19.0)\n",
      "Collecting pyglet<=1.5.0,>=1.4.0\n",
      "\n",
      "  Downloading pyglet-1.5.0-py2.py3-none-any.whl (1.0 MB)\n",
      "Collecting cloudpickle<1.4.0,>=1.2.0\n",
      "  Downloading cloudpickle-1.3.0-py2.py3-none-any.whl (26 kB)\n",
      "Requirement already satisfied: future in c:\\users\\acebr\\desktop\\keras-playground\\torch-playground\\venv\\lib\\site-packages (from pyglet<=1.5.0,>=1.4.0->gym) (0.18.2)\n",
      "Building wheels for collected packages: gym\n",
      "  Building wheel for gym (setup.py): started\n",
      "  Building wheel for gym (setup.py): finished with status 'done'\n",
      "  Created wheel for gym: filename=gym-0.17.2-py3-none-any.whl size=1650896 sha256=3d2cf7ff34da509d46501602995e8d37e5eac5d3c7ceaca2d3207d1be6c61a4c\n",
      "  Stored in directory: c:\\users\\acebr\\appdata\\local\\pip\\cache\\wheels\\18\\e1\\58\\89a2aa24e6c2cc800204fc02010612afdf200926c4d6bfe315\n",
      "Successfully built gym\n",
      "Installing collected packages: scipy, pyglet, cloudpickle, gym\n",
      "Successfully installed cloudpickle-1.3.0 gym-0.17.2 pyglet-1.5.0 scipy-1.5.2\n"
     ]
    },
    {
     "name": "stderr",
     "output_type": "stream",
     "text": [
      "WARNING: You are using pip version 20.0.2; however, version 20.2 is available.\n",
      "You should consider upgrading via the 'c:\\users\\acebr\\desktop\\keras-playground\\torch-playground\\venv\\scripts\\python.exe -m pip install --upgrade pip' command.\n"
     ]
    }
   ],
   "source": [
    "%pip install gym"
   ]
  },
  {
   "cell_type": "code",
   "execution_count": 2,
   "metadata": {},
   "outputs": [],
   "source": [
    "import gym\n",
    "import random\n",
    "import math\n",
    "import torch\n",
    "import torch.nn as nn\n",
    "import torch.optim as optim\n",
    "import torch.nn.functional as F\n",
    "from collections import deque\n",
    "import matplotlib.pyplot as plt"
   ]
  },
  {
   "cell_type": "code",
   "execution_count": 3,
   "metadata": {},
   "outputs": [],
   "source": [
    "EPISODES = 50\n",
    "EPS_START = 0.9\n",
    "EPS_END = 0.05\n",
    "EPS_DECAY = 200\n",
    "GAMMA = 0.8\n",
    "LR = 0.001\n",
    "BATCH_SIZE = 64"
   ]
  },
  {
   "cell_type": "code",
   "execution_count": 12,
   "metadata": {},
   "outputs": [],
   "source": [
    "class DQNAgent:\n",
    "    def __init__(self):\n",
    "        self.model = nn.Sequential(\n",
    "            nn.Linear(4, 256),\n",
    "            nn.ReLU(),\n",
    "            nn.Linear(256, 2),\n",
    "        )\n",
    "        \n",
    "        self.optimizer = optim.Adam(self.model.parameters(), LR)\n",
    "        self.steps_done = 0\n",
    "        self.memory = deque(maxlen=10000)\n",
    "    \n",
    "    def memorize(self, state, action, reward, next_state):\n",
    "        self.memory.append((state,\n",
    "                           action,\n",
    "                           torch.FloatTensor([reward]),\n",
    "                           torch.FloatTensor([next_state])))\n",
    "        \n",
    "    def act(self, state):\n",
    "        eps_threshold = EPS_END + (EPS_START - EPS_END) *\\\n",
    "                        math.exp(-1. * self.steps_done / EPS_DECAY)\n",
    "        self.steps_done += 1\n",
    "        if random.random() > eps_threshold:\n",
    "            return self.model(state).data.max(1)[1].view(1, 1)\n",
    "        else:\n",
    "            return torch.LongTensor([[random.randrange(2)]])\n",
    "    \n",
    "    def learn(self):\n",
    "        if len(self.memory) < BATCH_SIZE:\n",
    "            return\n",
    "        batch = random.sample(self.memory, BATCH_SIZE)\n",
    "        states, actions, rewards, next_states = zip(*batch)\n",
    "        \n",
    "        states = torch.cat(states)\n",
    "        actions = torch.cat(actions)\n",
    "        rewards = torch.cat(rewards)\n",
    "        next_states = torch.cat(next_states)\n",
    "        \n",
    "        current_q = self.model(states).gather(1, actions)\n",
    "        max_next_q = self.model(next_states).detach().max(1)[0]\n",
    "        expected_q = rewards + (GAMMA * max_next_q)\n",
    "        \n",
    "        loss = F.mse_loss(current_q.squeeze(), expected_q)\n",
    "        self.optimizer.zero_grad()\n",
    "        loss.backward()\n",
    "        self.optimizer.step()"
   ]
  },
  {
   "cell_type": "code",
   "execution_count": 14,
   "metadata": {},
   "outputs": [
    {
     "name": "stdout",
     "output_type": "stream",
     "text": [
      "Episode: 1, Score: 14\n"
     ]
    },
    {
     "name": "stderr",
     "output_type": "stream",
     "text": [
      "Exception ignored in: <function Viewer.__del__ at 0x0000022E7A2C55E8>\n",
      "Traceback (most recent call last):\n",
      "  File \"c:\\users\\acebr\\desktop\\keras-playground\\torch-playground\\venv\\lib\\site-packages\\gym\\envs\\classic_control\\rendering.py\", line 162, in __del__\n",
      "    self.close()\n",
      "  File \"c:\\users\\acebr\\desktop\\keras-playground\\torch-playground\\venv\\lib\\site-packages\\gym\\envs\\classic_control\\rendering.py\", line 81, in close\n",
      "    self.window.close()\n",
      "  File \"c:\\users\\acebr\\desktop\\keras-playground\\torch-playground\\venv\\lib\\site-packages\\pyglet\\window\\win32\\__init__.py\", line 299, in close\n",
      "    super(Win32Window, self).close()\n",
      "  File \"c:\\users\\acebr\\desktop\\keras-playground\\torch-playground\\venv\\lib\\site-packages\\pyglet\\window\\__init__.py\", line 823, in close\n",
      "    app.windows.remove(self)\n",
      "  File \"c:\\python37\\lib\\_weakrefset.py\", line 109, in remove\n",
      "    self.data.remove(ref(item))\n",
      "KeyError: (<weakref at 0x0000022E7EE88688; to 'Win32Window' at 0x0000022E79013088>,)\n",
      "Exception ignored in: <function Viewer.__del__ at 0x0000022E7A2C55E8>\n",
      "Traceback (most recent call last):\n",
      "  File \"c:\\users\\acebr\\desktop\\keras-playground\\torch-playground\\venv\\lib\\site-packages\\gym\\envs\\classic_control\\rendering.py\", line 162, in __del__\n",
      "    self.close()\n",
      "  File \"c:\\users\\acebr\\desktop\\keras-playground\\torch-playground\\venv\\lib\\site-packages\\gym\\envs\\classic_control\\rendering.py\", line 81, in close\n",
      "    self.window.close()\n",
      "  File \"c:\\users\\acebr\\desktop\\keras-playground\\torch-playground\\venv\\lib\\site-packages\\pyglet\\window\\win32\\__init__.py\", line 299, in close\n",
      "    super(Win32Window, self).close()\n",
      "  File \"c:\\users\\acebr\\desktop\\keras-playground\\torch-playground\\venv\\lib\\site-packages\\pyglet\\window\\__init__.py\", line 823, in close\n",
      "    app.windows.remove(self)\n",
      "  File \"c:\\python37\\lib\\_weakrefset.py\", line 109, in remove\n",
      "    self.data.remove(ref(item))\n",
      "KeyError: (<weakref at 0x0000022E7EE88548; to 'Win32Window' at 0x0000022E78F68A88>,)\n",
      "Exception ignored in: <function Viewer.__del__ at 0x0000022E7A2C55E8>\n",
      "Traceback (most recent call last):\n",
      "  File \"c:\\users\\acebr\\desktop\\keras-playground\\torch-playground\\venv\\lib\\site-packages\\gym\\envs\\classic_control\\rendering.py\", line 162, in __del__\n",
      "    self.close()\n",
      "  File \"c:\\users\\acebr\\desktop\\keras-playground\\torch-playground\\venv\\lib\\site-packages\\gym\\envs\\classic_control\\rendering.py\", line 81, in close\n",
      "    self.window.close()\n",
      "  File \"c:\\users\\acebr\\desktop\\keras-playground\\torch-playground\\venv\\lib\\site-packages\\pyglet\\window\\win32\\__init__.py\", line 299, in close\n",
      "    super(Win32Window, self).close()\n",
      "  File \"c:\\users\\acebr\\desktop\\keras-playground\\torch-playground\\venv\\lib\\site-packages\\pyglet\\window\\__init__.py\", line 823, in close\n",
      "    app.windows.remove(self)\n",
      "  File \"c:\\python37\\lib\\_weakrefset.py\", line 109, in remove\n",
      "    self.data.remove(ref(item))\n",
      "KeyError: (<weakref at 0x0000022E7EE9B1D8; to 'Win32Window' at 0x0000022E7EEB3788>,)\n"
     ]
    },
    {
     "name": "stdout",
     "output_type": "stream",
     "text": [
      "Episode: 2, Score: 17\n",
      "Episode: 3, Score: 14\n",
      "Episode: 4, Score: 11\n",
      "Episode: 5, Score: 13\n",
      "Episode: 6, Score: 34\n",
      "Episode: 7, Score: 12\n",
      "Episode: 8, Score: 17\n",
      "Episode: 9, Score: 21\n",
      "Episode: 10, Score: 12\n",
      "Episode: 11, Score: 16\n",
      "Episode: 12, Score: 18\n",
      "Episode: 13, Score: 29\n",
      "Episode: 14, Score: 32\n",
      "Episode: 15, Score: 17\n",
      "Episode: 16, Score: 53\n",
      "Episode: 17, Score: 43\n",
      "Episode: 18, Score: 40\n",
      "Episode: 19, Score: 28\n",
      "Episode: 20, Score: 31\n",
      "Episode: 21, Score: 47\n",
      "Episode: 22, Score: 31\n",
      "Episode: 23, Score: 53\n",
      "Episode: 24, Score: 54\n",
      "Episode: 25, Score: 40\n",
      "Episode: 26, Score: 50\n",
      "Episode: 27, Score: 54\n",
      "Episode: 28, Score: 62\n",
      "Episode: 29, Score: 43\n",
      "Episode: 30, Score: 107\n",
      "Episode: 31, Score: 66\n",
      "Episode: 32, Score: 58\n",
      "Episode: 33, Score: 75\n",
      "Episode: 34, Score: 184\n",
      "Episode: 35, Score: 200\n",
      "Episode: 36, Score: 200\n",
      "Episode: 37, Score: 128\n",
      "Episode: 38, Score: 200\n",
      "Episode: 39, Score: 175\n",
      "Episode: 40, Score: 200\n",
      "Episode: 41, Score: 200\n",
      "Episode: 42, Score: 200\n",
      "Episode: 43, Score: 200\n",
      "Episode: 44, Score: 177\n",
      "Episode: 45, Score: 190\n",
      "Episode: 46, Score: 200\n",
      "Episode: 47, Score: 200\n",
      "Episode: 48, Score: 200\n",
      "Episode: 49, Score: 200\n",
      "Episode: 50, Score: 200\n"
     ]
    }
   ],
   "source": [
    "env = gym.make(\"CartPole-v0\")\n",
    "agent = DQNAgent()\n",
    "score_history = []\n",
    "\n",
    "for e in range(1, EPISODES+1):\n",
    "    state = env.reset()\n",
    "    steps = 0\n",
    "    while True:\n",
    "        env.render()\n",
    "        state = torch.FloatTensor([state])\n",
    "        action = agent.act(state)\n",
    "        next_state, reward, done, _ = env.step(action.item())\n",
    "        \n",
    "        if done:\n",
    "            reward = -1\n",
    "        \n",
    "        agent.memorize(state, action, reward, next_state)\n",
    "        agent.learn()\n",
    "        \n",
    "        state = next_state\n",
    "        agent.learn()\n",
    "        \n",
    "        state = next_state\n",
    "        steps += 1\n",
    "        \n",
    "        if done:\n",
    "            print(f\"Episode: {e}, Score: {steps}\")\n",
    "            score_history.append(steps)\n",
    "            break"
   ]
  },
  {
   "cell_type": "code",
   "execution_count": 16,
   "metadata": {},
   "outputs": [
    {
     "data": {
      "image/png": "[encoded data removed]",
      "text/plain": [
       "<Figure size 432x288 with 1 Axes>"
      ]
     },
     "metadata": {
      "needs_background": "light"
     },
     "output_type": "display_data"
    }
   ],
   "source": [
    "plt.plot(score_history)\n",
    "plt.ylabel('score')\n",
    "plt.show()"
   ]
  },
  {
   "cell_type": "code",
   "execution_count": null,
   "metadata": {},
   "outputs": [],
   "source": []
  }
 ],
 "metadata": {
  "kernelspec": {
   "display_name": "Python 3",
   "language": "python",
   "name": "python3"
  },
  "language_info": {
   "codemirror_mode": {
    "name": "ipython",
    "version": 3
   },
   "file_extension": ".py",
   "mimetype": "text/x-python",
   "name": "python",
   "nbconvert_exporter": "python",
   "pygments_lexer": "ipython3",
   "version": "3.7.4"
  }
 },
 "nbformat": 4,
 "nbformat_minor": 4
}
