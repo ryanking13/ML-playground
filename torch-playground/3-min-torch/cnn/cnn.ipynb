{
 "cells": [
  {
   "cell_type": "code",
   "execution_count": 1,
   "metadata": {},
   "outputs": [],
   "source": [
    "import torch\n",
    "import torch.nn as nn\n",
    "import torch.optim as optim\n",
    "import torch.nn.functional as F\n",
    "from torchvision import transforms, datasets"
   ]
  },
  {
   "cell_type": "code",
   "execution_count": 8,
   "metadata": {},
   "outputs": [],
   "source": [
    "USE_CUDA = torch.cuda.is_available()\n",
    "DEVICE = torch.device(\"cuda\" if USE_CUDA else \"cpu\")"
   ]
  },
  {
   "cell_type": "code",
   "execution_count": 2,
   "metadata": {},
   "outputs": [],
   "source": [
    "EPOCHS = 40\n",
    "BATCH_SIZE = 64"
   ]
  },
  {
   "cell_type": "code",
   "execution_count": 3,
   "metadata": {},
   "outputs": [
    {
     "name": "stdout",
     "output_type": "stream",
     "text": [
      "Downloading http://yann.lecun.com/exdb/mnist/train-images-idx3-ubyte.gz to ./data\\MNIST\\raw\\train-images-idx3-ubyte.gz\n"
     ]
    },
    {
     "name": "stderr",
     "output_type": "stream",
     "text": [
      "100.1%"
     ]
    },
    {
     "name": "stdout",
     "output_type": "stream",
     "text": [
      "Extracting ./data\\MNIST\\raw\\train-images-idx3-ubyte.gz to ./data\\MNIST\\raw\n",
      "Downloading http://yann.lecun.com/exdb/mnist/train-labels-idx1-ubyte.gz to ./data\\MNIST\\raw\\train-labels-idx1-ubyte.gz\n"
     ]
    },
    {
     "name": "stderr",
     "output_type": "stream",
     "text": [
      "113.5%"
     ]
    },
    {
     "name": "stdout",
     "output_type": "stream",
     "text": [
      "Extracting ./data\\MNIST\\raw\\train-labels-idx1-ubyte.gz to ./data\\MNIST\\raw\n",
      "Downloading http://yann.lecun.com/exdb/mnist/t10k-images-idx3-ubyte.gz to ./data\\MNIST\\raw\\t10k-images-idx3-ubyte.gz\n"
     ]
    },
    {
     "name": "stderr",
     "output_type": "stream",
     "text": [
      "100.4%"
     ]
    },
    {
     "name": "stdout",
     "output_type": "stream",
     "text": [
      "Extracting ./data\\MNIST\\raw\\t10k-images-idx3-ubyte.gz to ./data\\MNIST\\raw\n",
      "Downloading http://yann.lecun.com/exdb/mnist/t10k-labels-idx1-ubyte.gz to ./data\\MNIST\\raw\\t10k-labels-idx1-ubyte.gz\n"
     ]
    },
    {
     "name": "stderr",
     "output_type": "stream",
     "text": [
      "180.4%"
     ]
    },
    {
     "name": "stdout",
     "output_type": "stream",
     "text": [
      "Extracting ./data\\MNIST\\raw\\t10k-labels-idx1-ubyte.gz to ./data\\MNIST\\raw\n",
      "Processing...\n"
     ]
    },
    {
     "name": "stderr",
     "output_type": "stream",
     "text": [
      "..\\torch\\csrc\\utils\\tensor_numpy.cpp:141: UserWarning: The given NumPy array is not writeable, and PyTorch does not support non-writeable tensors. This means you can write to the underlying (supposedly non-writeable) NumPy array using the tensor. You may want to copy the array to protect its data or make it writeable before converting it to a tensor. This type of warning will be suppressed for the rest of this program.\n"
     ]
    },
    {
     "name": "stdout",
     "output_type": "stream",
     "text": [
      "Done!\n"
     ]
    }
   ],
   "source": [
    "train_loader = torch.utils.data.DataLoader(\n",
    "    datasets.MNIST('./data',\n",
    "                   train=True,\n",
    "                   download=True,\n",
    "                   transform=transforms.Compose([\n",
    "                       transforms.ToTensor(),\n",
    "                       transforms.Normalize((0.1307,), (0.3081,))\n",
    "                   ])),\n",
    "    batch_size=BATCH_SIZE, shuffle=True)\n",
    "test_loader = torch.utils.data.DataLoader(\n",
    "    datasets.MNIST('./data',\n",
    "                   train=False, \n",
    "                   transform=transforms.Compose([\n",
    "                       transforms.ToTensor(),\n",
    "                       transforms.Normalize((0.1307,), (0.3081,))\n",
    "                   ])),\n",
    "    batch_size=BATCH_SIZE, shuffle=True)"
   ]
  },
  {
   "cell_type": "code",
   "execution_count": 6,
   "metadata": {},
   "outputs": [],
   "source": [
    "class Net(nn.Module):\n",
    "    def __init__(self):\n",
    "        super(Net, self).__init__()\n",
    "        self.conv1 = nn.Conv2d(1, 10, kernel_size=5)\n",
    "        self.conv2 = nn.Conv2d(10, 20, kernel_size=5)\n",
    "        self.conv2_drop = nn.Dropout2d()\n",
    "        self.fc1 = nn.Linear(320, 50)\n",
    "        self.fc2 = nn.Linear(50, 10)\n",
    "        \n",
    "    def forward(self, x):\n",
    "        x = F.relu(F.max_pool2d(self.conv1(x), 2))\n",
    "        x = F.relu(F.max_pool2d(self.conv2_drop(self.conv2(x)), 2))\n",
    "        x = x.view(-1, 320)\n",
    "        x = F.relu(self.fc1(x))\n",
    "        x = F.dropout(x, training=self.training)\n",
    "        x = self.fc2(x)\n",
    "        return F.log_softmax(x, dim=1)"
   ]
  },
  {
   "cell_type": "code",
   "execution_count": 9,
   "metadata": {},
   "outputs": [],
   "source": [
    "model = Net().to(DEVICE)\n",
    "optimizer = optim.SGD(model.parameters(), lr=0.01, momentum=0.5)"
   ]
  },
  {
   "cell_type": "code",
   "execution_count": 10,
   "metadata": {},
   "outputs": [],
   "source": [
    "def train(model, train_loader, optimizer, epoch):\n",
    "    model.train()\n",
    "    for batch_idx, (data, target) in enumerate(train_loader):\n",
    "        data, target = data.to(DEVICE), target.to(DEVICE)\n",
    "        optimizer.zero_grad()\n",
    "        output = model(data)\n",
    "        loss = F.cross_entropy(output, target)\n",
    "        loss.backward()\n",
    "        optimizer.step()\n",
    "\n",
    "        if batch_idx % 200 == 0:\n",
    "            print('Train Epoch: {} [{}/{} ({:.0f}%)]\\tLoss: {:.6f}'.format(\n",
    "                epoch, batch_idx * len(data), len(train_loader.dataset),\n",
    "                100. * batch_idx / len(train_loader), loss.item())) "
   ]
  },
  {
   "cell_type": "code",
   "execution_count": 11,
   "metadata": {},
   "outputs": [],
   "source": [
    "def evaluate(model, test_loader):\n",
    "    model.eval()\n",
    "    test_loss = 0\n",
    "    correct = 0\n",
    "    with torch.no_grad():\n",
    "        for data, target in test_loader:\n",
    "            data, target = data.to(DEVICE), target.to(DEVICE)\n",
    "            output = model(data)\n",
    "\n",
    "            # 배치 오차를 합산\n",
    "            test_loss += F.cross_entropy(output, target,\n",
    "                                         reduction='sum').item()\n",
    "\n",
    "            # 가장 높은 값을 가진 인덱스가 바로 예측값\n",
    "            pred = output.max(1, keepdim=True)[1]\n",
    "            correct += pred.eq(target.view_as(pred)).sum().item()\n",
    "\n",
    "    test_loss /= len(test_loader.dataset)\n",
    "    test_accuracy = 100. * correct / len(test_loader.dataset)\n",
    "    return test_loss, test_accuracy"
   ]
  },
  {
   "cell_type": "code",
   "execution_count": 12,
   "metadata": {},
   "outputs": [
    {
     "name": "stdout",
     "output_type": "stream",
     "text": [
      "Train Epoch: 1 [0/60000 (0%)]\tLoss: 2.265435\n",
      "Train Epoch: 1 [12800/60000 (21%)]\tLoss: 1.411680\n",
      "Train Epoch: 1 [25600/60000 (43%)]\tLoss: 0.454014\n",
      "Train Epoch: 1 [38400/60000 (64%)]\tLoss: 0.557403\n",
      "Train Epoch: 1 [51200/60000 (85%)]\tLoss: 0.587506\n",
      "[1] Test Loss: 0.1826, Accuracy: 94.91%\n",
      "Train Epoch: 2 [0/60000 (0%)]\tLoss: 0.320172\n",
      "Train Epoch: 2 [12800/60000 (21%)]\tLoss: 0.309385\n",
      "Train Epoch: 2 [25600/60000 (43%)]\tLoss: 0.265017\n",
      "Train Epoch: 2 [38400/60000 (64%)]\tLoss: 0.350152\n",
      "Train Epoch: 2 [51200/60000 (85%)]\tLoss: 0.194963\n",
      "[2] Test Loss: 0.1167, Accuracy: 96.35%\n",
      "Train Epoch: 3 [0/60000 (0%)]\tLoss: 0.379598\n",
      "Train Epoch: 3 [12800/60000 (21%)]\tLoss: 0.311678\n",
      "Train Epoch: 3 [25600/60000 (43%)]\tLoss: 0.353995\n",
      "Train Epoch: 3 [38400/60000 (64%)]\tLoss: 0.516980\n",
      "Train Epoch: 3 [51200/60000 (85%)]\tLoss: 0.237431\n",
      "[3] Test Loss: 0.0957, Accuracy: 97.03%\n",
      "Train Epoch: 4 [0/60000 (0%)]\tLoss: 0.277666\n",
      "Train Epoch: 4 [12800/60000 (21%)]\tLoss: 0.240060\n",
      "Train Epoch: 4 [25600/60000 (43%)]\tLoss: 0.177865\n",
      "Train Epoch: 4 [38400/60000 (64%)]\tLoss: 0.212853\n",
      "Train Epoch: 4 [51200/60000 (85%)]\tLoss: 0.108138\n",
      "[4] Test Loss: 0.0752, Accuracy: 97.60%\n",
      "Train Epoch: 5 [0/60000 (0%)]\tLoss: 0.306223\n",
      "Train Epoch: 5 [12800/60000 (21%)]\tLoss: 0.091886\n",
      "Train Epoch: 5 [25600/60000 (43%)]\tLoss: 0.193036\n",
      "Train Epoch: 5 [38400/60000 (64%)]\tLoss: 0.083541\n",
      "Train Epoch: 5 [51200/60000 (85%)]\tLoss: 0.157760\n",
      "[5] Test Loss: 0.0710, Accuracy: 97.78%\n",
      "Train Epoch: 6 [0/60000 (0%)]\tLoss: 0.112770\n",
      "Train Epoch: 6 [12800/60000 (21%)]\tLoss: 0.215023\n",
      "Train Epoch: 6 [25600/60000 (43%)]\tLoss: 0.167135\n",
      "Train Epoch: 6 [38400/60000 (64%)]\tLoss: 0.124050\n",
      "Train Epoch: 6 [51200/60000 (85%)]\tLoss: 0.194138\n",
      "[6] Test Loss: 0.0651, Accuracy: 97.94%\n",
      "Train Epoch: 7 [0/60000 (0%)]\tLoss: 0.182868\n",
      "Train Epoch: 7 [12800/60000 (21%)]\tLoss: 0.212752\n",
      "Train Epoch: 7 [25600/60000 (43%)]\tLoss: 0.141428\n",
      "Train Epoch: 7 [38400/60000 (64%)]\tLoss: 0.155078\n",
      "Train Epoch: 7 [51200/60000 (85%)]\tLoss: 0.188364\n",
      "[7] Test Loss: 0.0642, Accuracy: 98.03%\n",
      "Train Epoch: 8 [0/60000 (0%)]\tLoss: 0.266590\n",
      "Train Epoch: 8 [12800/60000 (21%)]\tLoss: 0.514605\n",
      "Train Epoch: 8 [25600/60000 (43%)]\tLoss: 0.063145\n",
      "Train Epoch: 8 [38400/60000 (64%)]\tLoss: 0.119075\n",
      "Train Epoch: 8 [51200/60000 (85%)]\tLoss: 0.488436\n",
      "[8] Test Loss: 0.0572, Accuracy: 98.18%\n",
      "Train Epoch: 9 [0/60000 (0%)]\tLoss: 0.149155\n",
      "Train Epoch: 9 [12800/60000 (21%)]\tLoss: 0.097573\n",
      "Train Epoch: 9 [25600/60000 (43%)]\tLoss: 0.081849\n",
      "Train Epoch: 9 [38400/60000 (64%)]\tLoss: 0.075794\n",
      "Train Epoch: 9 [51200/60000 (85%)]\tLoss: 0.512702\n",
      "[9] Test Loss: 0.0524, Accuracy: 98.25%\n",
      "Train Epoch: 10 [0/60000 (0%)]\tLoss: 0.196431\n",
      "Train Epoch: 10 [12800/60000 (21%)]\tLoss: 0.184804\n",
      "Train Epoch: 10 [25600/60000 (43%)]\tLoss: 0.294302\n",
      "Train Epoch: 10 [38400/60000 (64%)]\tLoss: 0.239356\n",
      "Train Epoch: 10 [51200/60000 (85%)]\tLoss: 0.187240\n",
      "[10] Test Loss: 0.0509, Accuracy: 98.38%\n",
      "Train Epoch: 11 [0/60000 (0%)]\tLoss: 0.201569\n",
      "Train Epoch: 11 [12800/60000 (21%)]\tLoss: 0.096678\n",
      "Train Epoch: 11 [25600/60000 (43%)]\tLoss: 0.210206\n",
      "Train Epoch: 11 [38400/60000 (64%)]\tLoss: 0.090883\n",
      "Train Epoch: 11 [51200/60000 (85%)]\tLoss: 0.152952\n",
      "[11] Test Loss: 0.0483, Accuracy: 98.42%\n",
      "Train Epoch: 12 [0/60000 (0%)]\tLoss: 0.112110\n",
      "Train Epoch: 12 [12800/60000 (21%)]\tLoss: 0.181823\n",
      "Train Epoch: 12 [25600/60000 (43%)]\tLoss: 0.152084\n",
      "Train Epoch: 12 [38400/60000 (64%)]\tLoss: 0.106794\n",
      "Train Epoch: 12 [51200/60000 (85%)]\tLoss: 0.121490\n",
      "[12] Test Loss: 0.0482, Accuracy: 98.48%\n",
      "Train Epoch: 13 [0/60000 (0%)]\tLoss: 0.153688\n",
      "Train Epoch: 13 [12800/60000 (21%)]\tLoss: 0.061346\n",
      "Train Epoch: 13 [25600/60000 (43%)]\tLoss: 0.130702\n",
      "Train Epoch: 13 [38400/60000 (64%)]\tLoss: 0.215033\n",
      "Train Epoch: 13 [51200/60000 (85%)]\tLoss: 0.146612\n",
      "[13] Test Loss: 0.0452, Accuracy: 98.59%\n",
      "Train Epoch: 14 [0/60000 (0%)]\tLoss: 0.243968\n",
      "Train Epoch: 14 [12800/60000 (21%)]\tLoss: 0.182452\n",
      "Train Epoch: 14 [25600/60000 (43%)]\tLoss: 0.084219\n",
      "Train Epoch: 14 [38400/60000 (64%)]\tLoss: 0.131814\n",
      "Train Epoch: 14 [51200/60000 (85%)]\tLoss: 0.245440\n",
      "[14] Test Loss: 0.0434, Accuracy: 98.66%\n",
      "Train Epoch: 15 [0/60000 (0%)]\tLoss: 0.112939\n",
      "Train Epoch: 15 [12800/60000 (21%)]\tLoss: 0.039786\n",
      "Train Epoch: 15 [25600/60000 (43%)]\tLoss: 0.221225\n",
      "Train Epoch: 15 [38400/60000 (64%)]\tLoss: 0.108079\n",
      "Train Epoch: 15 [51200/60000 (85%)]\tLoss: 0.225644\n",
      "[15] Test Loss: 0.0459, Accuracy: 98.55%\n",
      "Train Epoch: 16 [0/60000 (0%)]\tLoss: 0.087789\n",
      "Train Epoch: 16 [12800/60000 (21%)]\tLoss: 0.176788\n",
      "Train Epoch: 16 [25600/60000 (43%)]\tLoss: 0.101821\n",
      "Train Epoch: 16 [38400/60000 (64%)]\tLoss: 0.185669\n",
      "Train Epoch: 16 [51200/60000 (85%)]\tLoss: 0.087427\n",
      "[16] Test Loss: 0.0444, Accuracy: 98.59%\n",
      "Train Epoch: 17 [0/60000 (0%)]\tLoss: 0.057165\n",
      "Train Epoch: 17 [12800/60000 (21%)]\tLoss: 0.158960\n",
      "Train Epoch: 17 [25600/60000 (43%)]\tLoss: 0.176897\n",
      "Train Epoch: 17 [38400/60000 (64%)]\tLoss: 0.143130\n",
      "Train Epoch: 17 [51200/60000 (85%)]\tLoss: 0.152645\n",
      "[17] Test Loss: 0.0426, Accuracy: 98.67%\n",
      "Train Epoch: 18 [0/60000 (0%)]\tLoss: 0.048627\n",
      "Train Epoch: 18 [12800/60000 (21%)]\tLoss: 0.036823\n",
      "Train Epoch: 18 [25600/60000 (43%)]\tLoss: 0.117419\n",
      "Train Epoch: 18 [38400/60000 (64%)]\tLoss: 0.079226\n",
      "Train Epoch: 18 [51200/60000 (85%)]\tLoss: 0.108333\n",
      "[18] Test Loss: 0.0405, Accuracy: 98.66%\n",
      "Train Epoch: 19 [0/60000 (0%)]\tLoss: 0.169771\n",
      "Train Epoch: 19 [12800/60000 (21%)]\tLoss: 0.218046\n",
      "Train Epoch: 19 [25600/60000 (43%)]\tLoss: 0.118256\n",
      "Train Epoch: 19 [38400/60000 (64%)]\tLoss: 0.045497\n",
      "Train Epoch: 19 [51200/60000 (85%)]\tLoss: 0.142286\n",
      "[19] Test Loss: 0.0380, Accuracy: 98.77%\n",
      "Train Epoch: 20 [0/60000 (0%)]\tLoss: 0.122836\n",
      "Train Epoch: 20 [12800/60000 (21%)]\tLoss: 0.160812\n",
      "Train Epoch: 20 [25600/60000 (43%)]\tLoss: 0.137551\n",
      "Train Epoch: 20 [38400/60000 (64%)]\tLoss: 0.170505\n",
      "Train Epoch: 20 [51200/60000 (85%)]\tLoss: 0.052826\n",
      "[20] Test Loss: 0.0391, Accuracy: 98.76%\n",
      "Train Epoch: 21 [0/60000 (0%)]\tLoss: 0.141550\n",
      "Train Epoch: 21 [12800/60000 (21%)]\tLoss: 0.175083\n",
      "Train Epoch: 21 [25600/60000 (43%)]\tLoss: 0.146128\n",
      "Train Epoch: 21 [38400/60000 (64%)]\tLoss: 0.101001\n",
      "Train Epoch: 21 [51200/60000 (85%)]\tLoss: 0.088326\n",
      "[21] Test Loss: 0.0378, Accuracy: 98.77%\n",
      "Train Epoch: 22 [0/60000 (0%)]\tLoss: 0.115269\n",
      "Train Epoch: 22 [12800/60000 (21%)]\tLoss: 0.064879\n",
      "Train Epoch: 22 [25600/60000 (43%)]\tLoss: 0.119069\n",
      "Train Epoch: 22 [38400/60000 (64%)]\tLoss: 0.129075\n",
      "Train Epoch: 22 [51200/60000 (85%)]\tLoss: 0.115207\n",
      "[22] Test Loss: 0.0377, Accuracy: 98.73%\n",
      "Train Epoch: 23 [0/60000 (0%)]\tLoss: 0.074902\n",
      "Train Epoch: 23 [12800/60000 (21%)]\tLoss: 0.194176\n",
      "Train Epoch: 23 [25600/60000 (43%)]\tLoss: 0.086094\n",
      "Train Epoch: 23 [38400/60000 (64%)]\tLoss: 0.227496\n",
      "Train Epoch: 23 [51200/60000 (85%)]\tLoss: 0.167149\n",
      "[23] Test Loss: 0.0372, Accuracy: 98.79%\n",
      "Train Epoch: 24 [0/60000 (0%)]\tLoss: 0.056699\n",
      "Train Epoch: 24 [12800/60000 (21%)]\tLoss: 0.300342\n",
      "Train Epoch: 24 [25600/60000 (43%)]\tLoss: 0.022961\n",
      "Train Epoch: 24 [38400/60000 (64%)]\tLoss: 0.047237\n",
      "Train Epoch: 24 [51200/60000 (85%)]\tLoss: 0.114244\n",
      "[24] Test Loss: 0.0370, Accuracy: 98.83%\n",
      "Train Epoch: 25 [0/60000 (0%)]\tLoss: 0.176823\n",
      "Train Epoch: 25 [12800/60000 (21%)]\tLoss: 0.193646\n",
      "Train Epoch: 25 [25600/60000 (43%)]\tLoss: 0.232528\n",
      "Train Epoch: 25 [38400/60000 (64%)]\tLoss: 0.111079\n",
      "Train Epoch: 25 [51200/60000 (85%)]\tLoss: 0.034027\n",
      "[25] Test Loss: 0.0382, Accuracy: 98.76%\n",
      "Train Epoch: 26 [0/60000 (0%)]\tLoss: 0.193075\n",
      "Train Epoch: 26 [12800/60000 (21%)]\tLoss: 0.157934\n",
      "Train Epoch: 26 [25600/60000 (43%)]\tLoss: 0.179043\n",
      "Train Epoch: 26 [38400/60000 (64%)]\tLoss: 0.026118\n",
      "Train Epoch: 26 [51200/60000 (85%)]\tLoss: 0.192161\n",
      "[26] Test Loss: 0.0381, Accuracy: 98.80%\n",
      "Train Epoch: 27 [0/60000 (0%)]\tLoss: 0.182617\n",
      "Train Epoch: 27 [12800/60000 (21%)]\tLoss: 0.077345\n",
      "Train Epoch: 27 [25600/60000 (43%)]\tLoss: 0.094570\n",
      "Train Epoch: 27 [38400/60000 (64%)]\tLoss: 0.136576\n",
      "Train Epoch: 27 [51200/60000 (85%)]\tLoss: 0.054829\n",
      "[27] Test Loss: 0.0355, Accuracy: 98.85%\n",
      "Train Epoch: 28 [0/60000 (0%)]\tLoss: 0.170017\n",
      "Train Epoch: 28 [12800/60000 (21%)]\tLoss: 0.219741\n",
      "Train Epoch: 28 [25600/60000 (43%)]\tLoss: 0.056088\n",
      "Train Epoch: 28 [38400/60000 (64%)]\tLoss: 0.083356\n",
      "Train Epoch: 28 [51200/60000 (85%)]\tLoss: 0.186021\n",
      "[28] Test Loss: 0.0359, Accuracy: 98.77%\n",
      "Train Epoch: 29 [0/60000 (0%)]\tLoss: 0.175405\n",
      "Train Epoch: 29 [12800/60000 (21%)]\tLoss: 0.140362\n",
      "Train Epoch: 29 [25600/60000 (43%)]\tLoss: 0.066758\n"
     ]
    },
    {
     "name": "stdout",
     "output_type": "stream",
     "text": [
      "Train Epoch: 29 [38400/60000 (64%)]\tLoss: 0.279338\n",
      "Train Epoch: 29 [51200/60000 (85%)]\tLoss: 0.249331\n",
      "[29] Test Loss: 0.0327, Accuracy: 98.89%\n",
      "Train Epoch: 30 [0/60000 (0%)]\tLoss: 0.095009\n",
      "Train Epoch: 30 [12800/60000 (21%)]\tLoss: 0.105525\n",
      "Train Epoch: 30 [25600/60000 (43%)]\tLoss: 0.072435\n",
      "Train Epoch: 30 [38400/60000 (64%)]\tLoss: 0.015196\n",
      "Train Epoch: 30 [51200/60000 (85%)]\tLoss: 0.254269\n",
      "[30] Test Loss: 0.0357, Accuracy: 98.85%\n",
      "Train Epoch: 31 [0/60000 (0%)]\tLoss: 0.156988\n",
      "Train Epoch: 31 [12800/60000 (21%)]\tLoss: 0.156511\n",
      "Train Epoch: 31 [25600/60000 (43%)]\tLoss: 0.394644\n",
      "Train Epoch: 31 [38400/60000 (64%)]\tLoss: 0.100256\n",
      "Train Epoch: 31 [51200/60000 (85%)]\tLoss: 0.181751\n",
      "[31] Test Loss: 0.0353, Accuracy: 98.84%\n",
      "Train Epoch: 32 [0/60000 (0%)]\tLoss: 0.117506\n",
      "Train Epoch: 32 [12800/60000 (21%)]\tLoss: 0.094931\n",
      "Train Epoch: 32 [25600/60000 (43%)]\tLoss: 0.160781\n",
      "Train Epoch: 32 [38400/60000 (64%)]\tLoss: 0.056352\n",
      "Train Epoch: 32 [51200/60000 (85%)]\tLoss: 0.094177\n",
      "[32] Test Loss: 0.0341, Accuracy: 98.87%\n",
      "Train Epoch: 33 [0/60000 (0%)]\tLoss: 0.062383\n",
      "Train Epoch: 33 [12800/60000 (21%)]\tLoss: 0.041155\n",
      "Train Epoch: 33 [25600/60000 (43%)]\tLoss: 0.077671\n",
      "Train Epoch: 33 [38400/60000 (64%)]\tLoss: 0.093251\n",
      "Train Epoch: 33 [51200/60000 (85%)]\tLoss: 0.138758\n",
      "[33] Test Loss: 0.0337, Accuracy: 98.83%\n",
      "Train Epoch: 34 [0/60000 (0%)]\tLoss: 0.089278\n",
      "Train Epoch: 34 [12800/60000 (21%)]\tLoss: 0.158851\n",
      "Train Epoch: 34 [25600/60000 (43%)]\tLoss: 0.095250\n",
      "Train Epoch: 34 [38400/60000 (64%)]\tLoss: 0.149080\n",
      "Train Epoch: 34 [51200/60000 (85%)]\tLoss: 0.053474\n",
      "[34] Test Loss: 0.0321, Accuracy: 99.02%\n",
      "Train Epoch: 35 [0/60000 (0%)]\tLoss: 0.064499\n",
      "Train Epoch: 35 [12800/60000 (21%)]\tLoss: 0.166004\n",
      "Train Epoch: 35 [25600/60000 (43%)]\tLoss: 0.087274\n",
      "Train Epoch: 35 [38400/60000 (64%)]\tLoss: 0.151812\n",
      "Train Epoch: 35 [51200/60000 (85%)]\tLoss: 0.026373\n",
      "[35] Test Loss: 0.0324, Accuracy: 98.89%\n",
      "Train Epoch: 36 [0/60000 (0%)]\tLoss: 0.152076\n",
      "Train Epoch: 36 [12800/60000 (21%)]\tLoss: 0.054264\n",
      "Train Epoch: 36 [25600/60000 (43%)]\tLoss: 0.050171\n",
      "Train Epoch: 36 [38400/60000 (64%)]\tLoss: 0.067469\n",
      "Train Epoch: 36 [51200/60000 (85%)]\tLoss: 0.218726\n",
      "[36] Test Loss: 0.0351, Accuracy: 98.81%\n",
      "Train Epoch: 37 [0/60000 (0%)]\tLoss: 0.096472\n",
      "Train Epoch: 37 [12800/60000 (21%)]\tLoss: 0.210690\n",
      "Train Epoch: 37 [25600/60000 (43%)]\tLoss: 0.062477\n",
      "Train Epoch: 37 [38400/60000 (64%)]\tLoss: 0.045489\n",
      "Train Epoch: 37 [51200/60000 (85%)]\tLoss: 0.076343\n",
      "[37] Test Loss: 0.0329, Accuracy: 98.88%\n",
      "Train Epoch: 38 [0/60000 (0%)]\tLoss: 0.069332\n",
      "Train Epoch: 38 [12800/60000 (21%)]\tLoss: 0.035560\n",
      "Train Epoch: 38 [25600/60000 (43%)]\tLoss: 0.090800\n",
      "Train Epoch: 38 [38400/60000 (64%)]\tLoss: 0.138271\n",
      "Train Epoch: 38 [51200/60000 (85%)]\tLoss: 0.186571\n",
      "[38] Test Loss: 0.0348, Accuracy: 98.90%\n",
      "Train Epoch: 39 [0/60000 (0%)]\tLoss: 0.071557\n",
      "Train Epoch: 39 [12800/60000 (21%)]\tLoss: 0.047816\n",
      "Train Epoch: 39 [25600/60000 (43%)]\tLoss: 0.097007\n",
      "Train Epoch: 39 [38400/60000 (64%)]\tLoss: 0.038092\n",
      "Train Epoch: 39 [51200/60000 (85%)]\tLoss: 0.137597\n",
      "[39] Test Loss: 0.0346, Accuracy: 98.83%\n",
      "Train Epoch: 40 [0/60000 (0%)]\tLoss: 0.081865\n",
      "Train Epoch: 40 [12800/60000 (21%)]\tLoss: 0.094684\n",
      "Train Epoch: 40 [25600/60000 (43%)]\tLoss: 0.066828\n",
      "Train Epoch: 40 [38400/60000 (64%)]\tLoss: 0.137718\n",
      "Train Epoch: 40 [51200/60000 (85%)]\tLoss: 0.044903\n",
      "[40] Test Loss: 0.0327, Accuracy: 98.91%\n"
     ]
    }
   ],
   "source": [
    "for epoch in range(1, EPOCHS + 1):\n",
    "    train(model, train_loader, optimizer, epoch)\n",
    "    test_loss, test_accuracy = evaluate(model, test_loader)\n",
    "    \n",
    "    print('[{}] Test Loss: {:.4f}, Accuracy: {:.2f}%'.format(\n",
    "          epoch, test_loss, test_accuracy))"
   ]
  },
  {
   "cell_type": "code",
   "execution_count": null,
   "metadata": {},
   "outputs": [],
   "source": []
  }
 ],
 "metadata": {
  "kernelspec": {
   "display_name": "Python 3",
   "language": "python",
   "name": "python3"
  },
  "language_info": {
   "codemirror_mode": {
    "name": "ipython",
    "version": 3
   },
   "file_extension": ".py",
   "mimetype": "text/x-python",
   "name": "python",
   "nbconvert_exporter": "python",
   "pygments_lexer": "ipython3",
   "version": "3.7.4"
  }
 },
 "nbformat": 4,
 "nbformat_minor": 4
}
