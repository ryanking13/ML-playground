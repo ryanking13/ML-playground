{
 "cells": [
  {
   "cell_type": "code",
   "execution_count": 1,
   "metadata": {},
   "outputs": [],
   "source": [
    "import os\n",
    "import torch\n",
    "import torch.nn as nn\n",
    "import torch.optim as optim\n",
    "import torchvision\n",
    "import matplotlib.pyplot as plt\n",
    "import numpy as np"
   ]
  },
  {
   "cell_type": "code",
   "execution_count": 2,
   "metadata": {},
   "outputs": [
    {
     "name": "stdout",
     "output_type": "stream",
     "text": [
      "Device: cuda\n"
     ]
    }
   ],
   "source": [
    "EPOCHS = 300\n",
    "BATCH_SIZE = 100\n",
    "USE_CUDA = torch.cuda.is_available()\n",
    "DEVICE = torch.device(\"cuda\" if USE_CUDA else \"cpu\")\n",
    "print(\"Device:\", DEVICE)"
   ]
  },
  {
   "cell_type": "code",
   "execution_count": 3,
   "metadata": {},
   "outputs": [
    {
     "name": "stdout",
     "output_type": "stream",
     "text": [
      "Downloading http://fashion-mnist.s3-website.eu-central-1.amazonaws.com/train-images-idx3-ubyte.gz to ./.data\\FashionMNIST\\raw\\train-images-idx3-ubyte.gz\n"
     ]
    },
    {
     "data": {
      "application/vnd.jupyter.widget-view+json": {
       "model_id": "6cff895ec7954d97b184dde862905e8c",
       "version_major": 2,
       "version_minor": 0
      },
      "text/plain": [
       "HBox(children=(FloatProgress(value=1.0, bar_style='info', max=1.0), HTML(value='')))"
      ]
     },
     "metadata": {},
     "output_type": "display_data"
    },
    {
     "name": "stdout",
     "output_type": "stream",
     "text": [
      "Extracting ./.data\\FashionMNIST\\raw\\train-images-idx3-ubyte.gz to ./.data\\FashionMNIST\\raw\n",
      "Downloading http://fashion-mnist.s3-website.eu-central-1.amazonaws.com/train-labels-idx1-ubyte.gz to ./.data\\FashionMNIST\\raw\\train-labels-idx1-ubyte.gz\n"
     ]
    },
    {
     "data": {
      "application/vnd.jupyter.widget-view+json": {
       "model_id": "b49baeb1c46d40f48e6f3934cbc85026",
       "version_major": 2,
       "version_minor": 0
      },
      "text/plain": [
       "HBox(children=(FloatProgress(value=1.0, bar_style='info', max=1.0), HTML(value='')))"
      ]
     },
     "metadata": {},
     "output_type": "display_data"
    },
    {
     "name": "stdout",
     "output_type": "stream",
     "text": [
      "Extracting ./.data\\FashionMNIST\\raw\\train-labels-idx1-ubyte.gz to ./.data\\FashionMNIST\\raw\n",
      "Downloading http://fashion-mnist.s3-website.eu-central-1.amazonaws.com/t10k-images-idx3-ubyte.gz to ./.data\\FashionMNIST\\raw\\t10k-images-idx3-ubyte.gz\n"
     ]
    },
    {
     "data": {
      "application/vnd.jupyter.widget-view+json": {
       "model_id": "a8bc06abab9449fb991c34f743bd4775",
       "version_major": 2,
       "version_minor": 0
      },
      "text/plain": [
       "HBox(children=(FloatProgress(value=1.0, bar_style='info', max=1.0), HTML(value='')))"
      ]
     },
     "metadata": {},
     "output_type": "display_data"
    },
    {
     "name": "stdout",
     "output_type": "stream",
     "text": [
      "Extracting ./.data\\FashionMNIST\\raw\\t10k-images-idx3-ubyte.gz to ./.data\\FashionMNIST\\raw\n",
      "Downloading http://fashion-mnist.s3-website.eu-central-1.amazonaws.com/t10k-labels-idx1-ubyte.gz to ./.data\\FashionMNIST\\raw\\t10k-labels-idx1-ubyte.gz\n"
     ]
    },
    {
     "data": {
      "application/vnd.jupyter.widget-view+json": {
       "model_id": "2f4b5f6571764e6f94c2dacc09bc96c9",
       "version_major": 2,
       "version_minor": 0
      },
      "text/plain": [
       "HBox(children=(FloatProgress(value=1.0, bar_style='info', max=1.0), HTML(value='')))"
      ]
     },
     "metadata": {},
     "output_type": "display_data"
    },
    {
     "name": "stdout",
     "output_type": "stream",
     "text": [
      "Extracting ./.data\\FashionMNIST\\raw\\t10k-labels-idx1-ubyte.gz to ./.data\\FashionMNIST\\raw\n",
      "Processing...\n"
     ]
    },
    {
     "name": "stderr",
     "output_type": "stream",
     "text": [
      "..\\torch\\csrc\\utils\\tensor_numpy.cpp:141: UserWarning: The given NumPy array is not writeable, and PyTorch does not support non-writeable tensors. This means you can write to the underlying (supposedly non-writeable) NumPy array using the tensor. You may want to copy the array to protect its data or make it writeable before converting it to a tensor. This type of warning will be suppressed for the rest of this program.\n"
     ]
    },
    {
     "name": "stdout",
     "output_type": "stream",
     "text": [
      "Done!\n"
     ]
    }
   ],
   "source": [
    "trainset = torchvision.datasets.FashionMNIST(\n",
    "    \"./.data\",\n",
    "    train=True,\n",
    "    download=True,\n",
    "    transform=torchvision.transforms.Compose([\n",
    "        torchvision.transforms.ToTensor(),\n",
    "        torchvision.transforms.Normalize((0.5,), (0.5,))\n",
    "    ])\n",
    ")\n",
    "train_loader = torch.utils.data.DataLoader(\n",
    "    dataset=trainset,\n",
    "    batch_size=BATCH_SIZE,\n",
    "    shuffle=True,\n",
    ")"
   ]
  },
  {
   "cell_type": "code",
   "execution_count": 4,
   "metadata": {},
   "outputs": [],
   "source": [
    "G = nn.Sequential(\n",
    "    nn.Linear(64, 256),\n",
    "    nn.ReLU(),\n",
    "    nn.Linear(256, 256),\n",
    "    nn.ReLU(),\n",
    "    nn.Linear(256, 784),\n",
    "    nn.Tanh()\n",
    ")\n",
    "D = nn.Sequential(\n",
    "    nn.Linear(784, 256),\n",
    "    nn.LeakyReLU(0.2),\n",
    "    nn.Linear(256, 256),\n",
    "    nn.LeakyReLU(0.2),\n",
    "    nn.Linear(256, 1),\n",
    "    nn.Sigmoid()\n",
    ")"
   ]
  },
  {
   "cell_type": "code",
   "execution_count": 5,
   "metadata": {},
   "outputs": [
    {
     "name": "stdout",
     "output_type": "stream",
     "text": [
      "\n"
     ]
    }
   ],
   "source": [
    "D = D.to(DEVICE)\n",
    "G = G.to(DEVICE)"
   ]
  },
  {
   "cell_type": "code",
   "execution_count": 6,
   "metadata": {},
   "outputs": [],
   "source": [
    "criterion = nn.BCELoss()\n",
    "g_optimizer = optim.Adam(G.parameters(), lr=0.0002)\n",
    "d_optimizer = optim.Adam(D.parameters(), lr=0.0002)"
   ]
  },
  {
   "cell_type": "code",
   "execution_count": null,
   "metadata": {},
   "outputs": [
    {
     "name": "stdout",
     "output_type": "stream",
     "text": [
      "Epoch [0/300], d_loss: 0.0460, g_loss: 4.3398            D(x): 0.99, D(G(z)): 0.03\n",
      "Epoch [1/300], d_loss: 0.1039, g_loss: 4.8549            D(x): 0.96, D(G(z)): 0.02\n",
      "Epoch [2/300], d_loss: 0.0727, g_loss: 6.7098            D(x): 0.98, D(G(z)): 0.02\n",
      "Epoch [3/300], d_loss: 0.0151, g_loss: 7.1764            D(x): 1.00, D(G(z)): 0.01\n",
      "Epoch [4/300], d_loss: 0.0029, g_loss: 9.7375            D(x): 1.00, D(G(z)): 0.00\n",
      "Epoch [5/300], d_loss: 0.1194, g_loss: 5.8360            D(x): 0.97, D(G(z)): 0.02\n",
      "Epoch [6/300], d_loss: 0.0609, g_loss: 5.0308            D(x): 1.00, D(G(z)): 0.05\n",
      "Epoch [7/300], d_loss: 0.1763, g_loss: 5.6296            D(x): 0.95, D(G(z)): 0.05\n",
      "Epoch [8/300], d_loss: 0.1614, g_loss: 4.0350            D(x): 0.97, D(G(z)): 0.09\n",
      "Epoch [9/300], d_loss: 0.0630, g_loss: 7.1268            D(x): 0.98, D(G(z)): 0.02\n",
      "Epoch [10/300], d_loss: 0.0891, g_loss: 6.1211            D(x): 0.99, D(G(z)): 0.05\n",
      "Epoch [11/300], d_loss: 0.3123, g_loss: 3.2148            D(x): 0.89, D(G(z)): 0.06\n",
      "Epoch [12/300], d_loss: 0.2880, g_loss: 3.5180            D(x): 0.91, D(G(z)): 0.11\n",
      "Epoch [13/300], d_loss: 0.0773, g_loss: 4.3347            D(x): 0.99, D(G(z)): 0.06\n",
      "Epoch [14/300], d_loss: 0.3235, g_loss: 3.8728            D(x): 0.92, D(G(z)): 0.10\n",
      "Epoch [15/300], d_loss: 0.5370, g_loss: 4.1095            D(x): 0.84, D(G(z)): 0.06\n",
      "Epoch [16/300], d_loss: 0.3274, g_loss: 3.8894            D(x): 0.91, D(G(z)): 0.11\n",
      "Epoch [17/300], d_loss: 0.4052, g_loss: 2.8859            D(x): 0.89, D(G(z)): 0.15\n",
      "Epoch [18/300], d_loss: 0.4619, g_loss: 4.0326            D(x): 0.81, D(G(z)): 0.05\n",
      "Epoch [19/300], d_loss: 0.3507, g_loss: 3.0267            D(x): 0.92, D(G(z)): 0.17\n",
      "Epoch [20/300], d_loss: 0.3682, g_loss: 3.2513            D(x): 0.89, D(G(z)): 0.13\n",
      "Epoch [21/300], d_loss: 0.4082, g_loss: 3.1567            D(x): 0.89, D(G(z)): 0.13\n",
      "Epoch [22/300], d_loss: 0.4766, g_loss: 2.6506            D(x): 0.88, D(G(z)): 0.16\n",
      "Epoch [23/300], d_loss: 0.3832, g_loss: 3.0427            D(x): 0.85, D(G(z)): 0.11\n",
      "Epoch [24/300], d_loss: 0.2987, g_loss: 3.3553            D(x): 0.95, D(G(z)): 0.15\n",
      "Epoch [25/300], d_loss: 0.2819, g_loss: 3.8789            D(x): 0.87, D(G(z)): 0.06\n",
      "Epoch [26/300], d_loss: 0.3660, g_loss: 3.5344            D(x): 0.89, D(G(z)): 0.11\n",
      "Epoch [27/300], d_loss: 0.4689, g_loss: 2.9851            D(x): 0.84, D(G(z)): 0.10\n",
      "Epoch [28/300], d_loss: 0.5358, g_loss: 3.0446            D(x): 0.85, D(G(z)): 0.21\n",
      "Epoch [29/300], d_loss: 0.5655, g_loss: 3.6909            D(x): 0.88, D(G(z)): 0.16\n",
      "Epoch [30/300], d_loss: 0.2920, g_loss: 2.7095            D(x): 0.92, D(G(z)): 0.15\n",
      "Epoch [31/300], d_loss: 0.5710, g_loss: 3.0381            D(x): 0.90, D(G(z)): 0.23\n",
      "Epoch [32/300], d_loss: 0.4325, g_loss: 2.9141            D(x): 0.85, D(G(z)): 0.14\n",
      "Epoch [33/300], d_loss: 0.5517, g_loss: 2.6546            D(x): 0.85, D(G(z)): 0.19\n",
      "Epoch [34/300], d_loss: 0.6326, g_loss: 3.4681            D(x): 0.75, D(G(z)): 0.07\n",
      "Epoch [35/300], d_loss: 0.4717, g_loss: 2.5707            D(x): 0.90, D(G(z)): 0.20\n",
      "Epoch [36/300], d_loss: 0.4744, g_loss: 3.6912            D(x): 0.81, D(G(z)): 0.08\n",
      "Epoch [37/300], d_loss: 0.5815, g_loss: 2.5284            D(x): 0.84, D(G(z)): 0.17\n",
      "Epoch [38/300], d_loss: 0.5988, g_loss: 2.3571            D(x): 0.83, D(G(z)): 0.22\n",
      "Epoch [39/300], d_loss: 0.6032, g_loss: 2.2600            D(x): 0.79, D(G(z)): 0.16\n",
      "Epoch [40/300], d_loss: 0.7930, g_loss: 2.0395            D(x): 0.74, D(G(z)): 0.23\n",
      "Epoch [41/300], d_loss: 0.5728, g_loss: 2.4801            D(x): 0.83, D(G(z)): 0.19\n",
      "Epoch [42/300], d_loss: 0.6407, g_loss: 2.7095            D(x): 0.85, D(G(z)): 0.24\n",
      "Epoch [43/300], d_loss: 0.5262, g_loss: 2.7528            D(x): 0.88, D(G(z)): 0.19\n",
      "Epoch [44/300], d_loss: 0.7098, g_loss: 2.3200            D(x): 0.81, D(G(z)): 0.23\n",
      "Epoch [45/300], d_loss: 0.5665, g_loss: 3.2230            D(x): 0.77, D(G(z)): 0.09\n",
      "Epoch [46/300], d_loss: 0.6584, g_loss: 2.1622            D(x): 0.81, D(G(z)): 0.22\n",
      "Epoch [47/300], d_loss: 0.5795, g_loss: 2.6867            D(x): 0.88, D(G(z)): 0.26\n",
      "Epoch [48/300], d_loss: 0.6065, g_loss: 2.3638            D(x): 0.82, D(G(z)): 0.24\n",
      "Epoch [49/300], d_loss: 0.9472, g_loss: 2.0715            D(x): 0.82, D(G(z)): 0.38\n",
      "Epoch [50/300], d_loss: 0.5489, g_loss: 2.0797            D(x): 0.86, D(G(z)): 0.24\n",
      "Epoch [51/300], d_loss: 0.6169, g_loss: 2.2327            D(x): 0.79, D(G(z)): 0.19\n",
      "Epoch [52/300], d_loss: 0.6185, g_loss: 3.1177            D(x): 0.85, D(G(z)): 0.24\n",
      "Epoch [53/300], d_loss: 0.6450, g_loss: 2.3189            D(x): 0.83, D(G(z)): 0.21\n",
      "Epoch [54/300], d_loss: 0.6329, g_loss: 2.3074            D(x): 0.83, D(G(z)): 0.22\n",
      "Epoch [55/300], d_loss: 0.6620, g_loss: 2.7732            D(x): 0.76, D(G(z)): 0.18\n",
      "Epoch [56/300], d_loss: 0.6861, g_loss: 2.3912            D(x): 0.76, D(G(z)): 0.16\n",
      "Epoch [57/300], d_loss: 0.7194, g_loss: 2.5363            D(x): 0.75, D(G(z)): 0.15\n",
      "Epoch [58/300], d_loss: 0.5963, g_loss: 2.1392            D(x): 0.83, D(G(z)): 0.22\n",
      "Epoch [59/300], d_loss: 0.7779, g_loss: 2.1586            D(x): 0.72, D(G(z)): 0.18\n",
      "Epoch [60/300], d_loss: 0.6881, g_loss: 1.8930            D(x): 0.78, D(G(z)): 0.25\n",
      "Epoch [61/300], d_loss: 0.7037, g_loss: 2.5493            D(x): 0.76, D(G(z)): 0.17\n",
      "Epoch [62/300], d_loss: 0.9888, g_loss: 1.7751            D(x): 0.64, D(G(z)): 0.21\n",
      "Epoch [63/300], d_loss: 0.7670, g_loss: 2.5127            D(x): 0.78, D(G(z)): 0.23\n",
      "Epoch [64/300], d_loss: 0.7862, g_loss: 1.9196            D(x): 0.79, D(G(z)): 0.29\n",
      "Epoch [65/300], d_loss: 0.7561, g_loss: 1.9881            D(x): 0.80, D(G(z)): 0.29\n",
      "Epoch [66/300], d_loss: 1.1121, g_loss: 1.9934            D(x): 0.71, D(G(z)): 0.30\n",
      "Epoch [67/300], d_loss: 0.7237, g_loss: 2.7307            D(x): 0.75, D(G(z)): 0.17\n",
      "Epoch [68/300], d_loss: 0.8849, g_loss: 2.2349            D(x): 0.72, D(G(z)): 0.24\n",
      "Epoch [69/300], d_loss: 0.6611, g_loss: 2.8291            D(x): 0.75, D(G(z)): 0.16\n",
      "Epoch [70/300], d_loss: 0.9580, g_loss: 1.7831            D(x): 0.70, D(G(z)): 0.29\n",
      "Epoch [71/300], d_loss: 0.9607, g_loss: 2.2992            D(x): 0.71, D(G(z)): 0.26\n",
      "Epoch [72/300], d_loss: 0.8615, g_loss: 1.9823            D(x): 0.72, D(G(z)): 0.22\n",
      "Epoch [73/300], d_loss: 0.6333, g_loss: 2.0909            D(x): 0.79, D(G(z)): 0.23\n",
      "Epoch [74/300], d_loss: 0.6238, g_loss: 2.0274            D(x): 0.80, D(G(z)): 0.24\n",
      "Epoch [75/300], d_loss: 0.9083, g_loss: 1.9348            D(x): 0.76, D(G(z)): 0.30\n",
      "Epoch [76/300], d_loss: 0.9777, g_loss: 1.8699            D(x): 0.76, D(G(z)): 0.32\n",
      "Epoch [77/300], d_loss: 0.6951, g_loss: 2.1581            D(x): 0.82, D(G(z)): 0.27\n",
      "Epoch [78/300], d_loss: 0.5718, g_loss: 2.4523            D(x): 0.79, D(G(z)): 0.18\n",
      "Epoch [79/300], d_loss: 0.8621, g_loss: 2.1735            D(x): 0.73, D(G(z)): 0.28\n",
      "Epoch [80/300], d_loss: 0.8290, g_loss: 1.7302            D(x): 0.78, D(G(z)): 0.31\n",
      "Epoch [81/300], d_loss: 1.0205, g_loss: 2.0210            D(x): 0.69, D(G(z)): 0.28\n",
      "Epoch [82/300], d_loss: 0.8967, g_loss: 1.7497            D(x): 0.75, D(G(z)): 0.32\n",
      "Epoch [83/300], d_loss: 0.7392, g_loss: 2.2583            D(x): 0.75, D(G(z)): 0.23\n",
      "Epoch [84/300], d_loss: 0.9091, g_loss: 1.9659            D(x): 0.75, D(G(z)): 0.31\n",
      "Epoch [85/300], d_loss: 0.9546, g_loss: 2.1125            D(x): 0.66, D(G(z)): 0.26\n",
      "Epoch [86/300], d_loss: 0.7000, g_loss: 2.1025            D(x): 0.76, D(G(z)): 0.23\n",
      "Epoch [87/300], d_loss: 0.7348, g_loss: 1.8138            D(x): 0.80, D(G(z)): 0.30\n",
      "Epoch [88/300], d_loss: 0.8591, g_loss: 1.5065            D(x): 0.72, D(G(z)): 0.28\n",
      "Epoch [89/300], d_loss: 0.8812, g_loss: 2.0410            D(x): 0.81, D(G(z)): 0.32\n",
      "Epoch [90/300], d_loss: 0.8670, g_loss: 1.7634            D(x): 0.75, D(G(z)): 0.31\n",
      "Epoch [91/300], d_loss: 0.8830, g_loss: 1.5233            D(x): 0.75, D(G(z)): 0.31\n",
      "Epoch [92/300], d_loss: 0.9825, g_loss: 1.7131            D(x): 0.64, D(G(z)): 0.24\n",
      "Epoch [93/300], d_loss: 0.7707, g_loss: 1.5484            D(x): 0.78, D(G(z)): 0.29\n",
      "Epoch [94/300], d_loss: 0.9034, g_loss: 1.5004            D(x): 0.71, D(G(z)): 0.31\n",
      "Epoch [95/300], d_loss: 1.1492, g_loss: 1.6853            D(x): 0.71, D(G(z)): 0.36\n",
      "Epoch [96/300], d_loss: 0.9220, g_loss: 1.9090            D(x): 0.68, D(G(z)): 0.23\n",
      "Epoch [97/300], d_loss: 0.9392, g_loss: 1.8897            D(x): 0.70, D(G(z)): 0.29\n"
     ]
    },
    {
     "name": "stdout",
     "output_type": "stream",
     "text": [
      "Epoch [98/300], d_loss: 0.9730, g_loss: 1.9541            D(x): 0.72, D(G(z)): 0.31\n",
      "Epoch [99/300], d_loss: 0.8393, g_loss: 2.2985            D(x): 0.73, D(G(z)): 0.26\n",
      "Epoch [100/300], d_loss: 0.8337, g_loss: 1.8316            D(x): 0.72, D(G(z)): 0.28\n",
      "Epoch [101/300], d_loss: 0.7566, g_loss: 1.6707            D(x): 0.76, D(G(z)): 0.28\n",
      "Epoch [102/300], d_loss: 0.9136, g_loss: 1.7160            D(x): 0.75, D(G(z)): 0.33\n",
      "Epoch [103/300], d_loss: 1.1020, g_loss: 1.6599            D(x): 0.69, D(G(z)): 0.36\n",
      "Epoch [104/300], d_loss: 0.8889, g_loss: 1.6211            D(x): 0.73, D(G(z)): 0.30\n",
      "Epoch [105/300], d_loss: 0.7374, g_loss: 1.9914            D(x): 0.75, D(G(z)): 0.24\n",
      "Epoch [106/300], d_loss: 0.7368, g_loss: 1.8260            D(x): 0.77, D(G(z)): 0.27\n",
      "Epoch [107/300], d_loss: 0.8168, g_loss: 1.6188            D(x): 0.74, D(G(z)): 0.32\n",
      "Epoch [108/300], d_loss: 0.7589, g_loss: 2.5369            D(x): 0.77, D(G(z)): 0.27\n",
      "Epoch [109/300], d_loss: 1.0309, g_loss: 1.6662            D(x): 0.72, D(G(z)): 0.34\n",
      "Epoch [110/300], d_loss: 0.8065, g_loss: 1.8656            D(x): 0.73, D(G(z)): 0.25\n",
      "Epoch [111/300], d_loss: 1.0007, g_loss: 1.4220            D(x): 0.69, D(G(z)): 0.34\n",
      "Epoch [112/300], d_loss: 0.8265, g_loss: 1.5274            D(x): 0.74, D(G(z)): 0.31\n",
      "Epoch [113/300], d_loss: 0.9433, g_loss: 1.8380            D(x): 0.62, D(G(z)): 0.23\n",
      "Epoch [114/300], d_loss: 0.9647, g_loss: 1.4956            D(x): 0.70, D(G(z)): 0.31\n",
      "Epoch [115/300], d_loss: 0.6873, g_loss: 2.3451            D(x): 0.83, D(G(z)): 0.27\n",
      "Epoch [116/300], d_loss: 0.8245, g_loss: 2.2019            D(x): 0.73, D(G(z)): 0.28\n",
      "Epoch [117/300], d_loss: 0.8287, g_loss: 1.9563            D(x): 0.78, D(G(z)): 0.31\n",
      "Epoch [118/300], d_loss: 0.7585, g_loss: 1.6940            D(x): 0.76, D(G(z)): 0.27\n",
      "Epoch [119/300], d_loss: 0.8591, g_loss: 1.4199            D(x): 0.76, D(G(z)): 0.34\n",
      "Epoch [120/300], d_loss: 0.7280, g_loss: 1.6436            D(x): 0.79, D(G(z)): 0.30\n",
      "Epoch [121/300], d_loss: 0.8919, g_loss: 2.1501            D(x): 0.67, D(G(z)): 0.24\n",
      "Epoch [122/300], d_loss: 1.0042, g_loss: 1.9335            D(x): 0.70, D(G(z)): 0.29\n",
      "Epoch [123/300], d_loss: 1.5845, g_loss: 1.3264            D(x): 0.64, D(G(z)): 0.48\n",
      "Epoch [124/300], d_loss: 1.1137, g_loss: 1.7462            D(x): 0.64, D(G(z)): 0.32\n",
      "Epoch [125/300], d_loss: 0.9702, g_loss: 1.8650            D(x): 0.69, D(G(z)): 0.27\n",
      "Epoch [126/300], d_loss: 1.0384, g_loss: 1.5838            D(x): 0.67, D(G(z)): 0.34\n",
      "Epoch [127/300], d_loss: 0.7695, g_loss: 1.8994            D(x): 0.71, D(G(z)): 0.24\n",
      "Epoch [128/300], d_loss: 1.0123, g_loss: 1.6508            D(x): 0.69, D(G(z)): 0.33\n",
      "Epoch [129/300], d_loss: 0.9015, g_loss: 1.9420            D(x): 0.67, D(G(z)): 0.25\n",
      "Epoch [130/300], d_loss: 1.1757, g_loss: 1.9227            D(x): 0.58, D(G(z)): 0.28\n",
      "Epoch [131/300], d_loss: 1.1186, g_loss: 1.4879            D(x): 0.63, D(G(z)): 0.33\n",
      "Epoch [132/300], d_loss: 1.1551, g_loss: 1.4350            D(x): 0.67, D(G(z)): 0.40\n",
      "Epoch [133/300], d_loss: 0.9212, g_loss: 1.6222            D(x): 0.66, D(G(z)): 0.28\n",
      "Epoch [134/300], d_loss: 1.2092, g_loss: 1.2875            D(x): 0.65, D(G(z)): 0.38\n",
      "Epoch [135/300], d_loss: 1.0471, g_loss: 1.5110            D(x): 0.67, D(G(z)): 0.33\n",
      "Epoch [136/300], d_loss: 0.8365, g_loss: 1.3765            D(x): 0.74, D(G(z)): 0.33\n",
      "Epoch [137/300], d_loss: 1.0374, g_loss: 1.8155            D(x): 0.65, D(G(z)): 0.30\n",
      "Epoch [138/300], d_loss: 0.9780, g_loss: 1.3923            D(x): 0.75, D(G(z)): 0.39\n",
      "Epoch [139/300], d_loss: 1.1467, g_loss: 1.1141            D(x): 0.66, D(G(z)): 0.39\n",
      "Epoch [140/300], d_loss: 1.0394, g_loss: 1.3253            D(x): 0.66, D(G(z)): 0.35\n",
      "Epoch [141/300], d_loss: 1.0561, g_loss: 1.3678            D(x): 0.65, D(G(z)): 0.36\n",
      "Epoch [142/300], d_loss: 1.0625, g_loss: 1.8878            D(x): 0.67, D(G(z)): 0.31\n",
      "Epoch [143/300], d_loss: 1.0368, g_loss: 1.4186            D(x): 0.66, D(G(z)): 0.33\n",
      "Epoch [144/300], d_loss: 0.8959, g_loss: 1.7823            D(x): 0.67, D(G(z)): 0.26\n",
      "Epoch [145/300], d_loss: 1.0392, g_loss: 1.5228            D(x): 0.66, D(G(z)): 0.32\n",
      "Epoch [146/300], d_loss: 0.9818, g_loss: 1.7018            D(x): 0.72, D(G(z)): 0.35\n",
      "Epoch [147/300], d_loss: 1.2493, g_loss: 1.5338            D(x): 0.61, D(G(z)): 0.35\n",
      "Epoch [148/300], d_loss: 1.0162, g_loss: 1.4105            D(x): 0.66, D(G(z)): 0.34\n",
      "Epoch [149/300], d_loss: 1.0112, g_loss: 1.5413            D(x): 0.63, D(G(z)): 0.29\n",
      "Epoch [150/300], d_loss: 0.9461, g_loss: 1.4803            D(x): 0.66, D(G(z)): 0.31\n",
      "Epoch [151/300], d_loss: 0.9410, g_loss: 1.5971            D(x): 0.65, D(G(z)): 0.30\n",
      "Epoch [152/300], d_loss: 1.0053, g_loss: 1.3209            D(x): 0.71, D(G(z)): 0.38\n",
      "Epoch [153/300], d_loss: 1.1796, g_loss: 1.3168            D(x): 0.72, D(G(z)): 0.41\n",
      "Epoch [154/300], d_loss: 1.0690, g_loss: 1.2613            D(x): 0.72, D(G(z)): 0.42\n",
      "Epoch [155/300], d_loss: 1.0993, g_loss: 1.4052            D(x): 0.60, D(G(z)): 0.30\n",
      "Epoch [156/300], d_loss: 0.8865, g_loss: 1.5010            D(x): 0.71, D(G(z)): 0.32\n",
      "Epoch [157/300], d_loss: 1.2183, g_loss: 1.1102            D(x): 0.64, D(G(z)): 0.41\n",
      "Epoch [158/300], d_loss: 1.1295, g_loss: 1.4847            D(x): 0.62, D(G(z)): 0.33\n",
      "Epoch [159/300], d_loss: 1.0034, g_loss: 1.4274            D(x): 0.69, D(G(z)): 0.35\n",
      "Epoch [160/300], d_loss: 1.0579, g_loss: 1.5114            D(x): 0.63, D(G(z)): 0.32\n",
      "Epoch [161/300], d_loss: 0.9721, g_loss: 1.4909            D(x): 0.67, D(G(z)): 0.32\n",
      "Epoch [162/300], d_loss: 1.0975, g_loss: 1.3671            D(x): 0.65, D(G(z)): 0.37\n",
      "Epoch [163/300], d_loss: 1.0816, g_loss: 1.5159            D(x): 0.61, D(G(z)): 0.31\n",
      "Epoch [164/300], d_loss: 1.1160, g_loss: 1.2196            D(x): 0.67, D(G(z)): 0.39\n",
      "Epoch [165/300], d_loss: 0.7817, g_loss: 1.6125            D(x): 0.78, D(G(z)): 0.30\n",
      "Epoch [166/300], d_loss: 1.1406, g_loss: 1.1517            D(x): 0.65, D(G(z)): 0.40\n",
      "Epoch [167/300], d_loss: 1.0745, g_loss: 1.3313            D(x): 0.65, D(G(z)): 0.35\n",
      "Epoch [168/300], d_loss: 1.1259, g_loss: 1.5400            D(x): 0.57, D(G(z)): 0.31\n",
      "Epoch [169/300], d_loss: 1.1746, g_loss: 1.3880            D(x): 0.65, D(G(z)): 0.36\n",
      "Epoch [170/300], d_loss: 1.2740, g_loss: 1.3591            D(x): 0.62, D(G(z)): 0.39\n",
      "Epoch [171/300], d_loss: 1.0173, g_loss: 1.4719            D(x): 0.63, D(G(z)): 0.31\n",
      "Epoch [172/300], d_loss: 0.9317, g_loss: 1.4038            D(x): 0.65, D(G(z)): 0.29\n",
      "Epoch [173/300], d_loss: 1.1986, g_loss: 1.3225            D(x): 0.58, D(G(z)): 0.34\n",
      "Epoch [174/300], d_loss: 1.0540, g_loss: 1.3912            D(x): 0.67, D(G(z)): 0.34\n",
      "Epoch [175/300], d_loss: 1.1792, g_loss: 1.4688            D(x): 0.63, D(G(z)): 0.36\n",
      "Epoch [176/300], d_loss: 1.1430, g_loss: 1.1678            D(x): 0.64, D(G(z)): 0.40\n",
      "Epoch [177/300], d_loss: 1.0452, g_loss: 1.5351            D(x): 0.61, D(G(z)): 0.30\n",
      "Epoch [178/300], d_loss: 0.9819, g_loss: 1.5346            D(x): 0.66, D(G(z)): 0.32\n",
      "Epoch [179/300], d_loss: 0.8517, g_loss: 1.8004            D(x): 0.66, D(G(z)): 0.24\n",
      "Epoch [180/300], d_loss: 1.1814, g_loss: 1.5411            D(x): 0.55, D(G(z)): 0.28\n",
      "Epoch [181/300], d_loss: 1.3356, g_loss: 1.2096            D(x): 0.59, D(G(z)): 0.39\n",
      "Epoch [182/300], d_loss: 1.2130, g_loss: 1.1738            D(x): 0.57, D(G(z)): 0.35\n",
      "Epoch [183/300], d_loss: 1.0670, g_loss: 1.1836            D(x): 0.65, D(G(z)): 0.37\n",
      "Epoch [184/300], d_loss: 0.8919, g_loss: 1.5022            D(x): 0.69, D(G(z)): 0.32\n",
      "Epoch [185/300], d_loss: 1.0706, g_loss: 1.2325            D(x): 0.65, D(G(z)): 0.36\n",
      "Epoch [186/300], d_loss: 0.9930, g_loss: 1.4832            D(x): 0.65, D(G(z)): 0.31\n",
      "Epoch [187/300], d_loss: 1.3522, g_loss: 1.0442            D(x): 0.62, D(G(z)): 0.45\n",
      "Epoch [188/300], d_loss: 0.9381, g_loss: 1.3661            D(x): 0.70, D(G(z)): 0.35\n",
      "Epoch [189/300], d_loss: 1.1713, g_loss: 1.4106            D(x): 0.62, D(G(z)): 0.35\n",
      "Epoch [190/300], d_loss: 1.0388, g_loss: 1.2958            D(x): 0.66, D(G(z)): 0.36\n",
      "Epoch [191/300], d_loss: 0.9774, g_loss: 1.4092            D(x): 0.67, D(G(z)): 0.34\n",
      "Epoch [192/300], d_loss: 1.1256, g_loss: 1.1877            D(x): 0.65, D(G(z)): 0.39\n",
      "Epoch [193/300], d_loss: 0.9393, g_loss: 1.4169            D(x): 0.65, D(G(z)): 0.31\n",
      "Epoch [194/300], d_loss: 1.0592, g_loss: 1.5082            D(x): 0.62, D(G(z)): 0.30\n"
     ]
    },
    {
     "name": "stdout",
     "output_type": "stream",
     "text": [
      "Epoch [195/300], d_loss: 0.8232, g_loss: 1.4835            D(x): 0.75, D(G(z)): 0.34\n",
      "Epoch [196/300], d_loss: 1.1519, g_loss: 1.4995            D(x): 0.60, D(G(z)): 0.32\n",
      "Epoch [197/300], d_loss: 1.0437, g_loss: 1.4222            D(x): 0.66, D(G(z)): 0.33\n",
      "Epoch [198/300], d_loss: 0.8576, g_loss: 1.5026            D(x): 0.70, D(G(z)): 0.30\n",
      "Epoch [199/300], d_loss: 1.2579, g_loss: 1.3690            D(x): 0.57, D(G(z)): 0.34\n",
      "Epoch [200/300], d_loss: 1.0117, g_loss: 1.3304            D(x): 0.67, D(G(z)): 0.36\n",
      "Epoch [201/300], d_loss: 1.2116, g_loss: 1.1813            D(x): 0.63, D(G(z)): 0.39\n",
      "Epoch [202/300], d_loss: 0.9519, g_loss: 1.1737            D(x): 0.69, D(G(z)): 0.37\n",
      "Epoch [203/300], d_loss: 1.1167, g_loss: 1.5359            D(x): 0.59, D(G(z)): 0.31\n",
      "Epoch [204/300], d_loss: 0.8348, g_loss: 1.5610            D(x): 0.69, D(G(z)): 0.27\n",
      "Epoch [205/300], d_loss: 1.0868, g_loss: 1.5761            D(x): 0.60, D(G(z)): 0.32\n",
      "Epoch [206/300], d_loss: 0.9590, g_loss: 1.4691            D(x): 0.71, D(G(z)): 0.35\n",
      "Epoch [207/300], d_loss: 0.8922, g_loss: 1.4557            D(x): 0.65, D(G(z)): 0.30\n",
      "Epoch [208/300], d_loss: 0.9587, g_loss: 1.4746            D(x): 0.63, D(G(z)): 0.30\n",
      "Epoch [209/300], d_loss: 1.1266, g_loss: 1.1731            D(x): 0.64, D(G(z)): 0.39\n",
      "Epoch [210/300], d_loss: 1.1975, g_loss: 1.4614            D(x): 0.57, D(G(z)): 0.33\n",
      "Epoch [211/300], d_loss: 1.0297, g_loss: 1.2777            D(x): 0.64, D(G(z)): 0.35\n",
      "Epoch [212/300], d_loss: 1.3879, g_loss: 1.0165            D(x): 0.57, D(G(z)): 0.44\n",
      "Epoch [213/300], d_loss: 1.3730, g_loss: 1.0013            D(x): 0.63, D(G(z)): 0.46\n",
      "Epoch [214/300], d_loss: 1.0063, g_loss: 1.3304            D(x): 0.64, D(G(z)): 0.34\n",
      "Epoch [215/300], d_loss: 1.0208, g_loss: 1.5441            D(x): 0.63, D(G(z)): 0.29\n",
      "Epoch [216/300], d_loss: 0.8099, g_loss: 1.5652            D(x): 0.69, D(G(z)): 0.28\n",
      "Epoch [217/300], d_loss: 0.9673, g_loss: 1.4487            D(x): 0.67, D(G(z)): 0.32\n",
      "Epoch [218/300], d_loss: 1.0260, g_loss: 1.3712            D(x): 0.64, D(G(z)): 0.34\n",
      "Epoch [219/300], d_loss: 0.9383, g_loss: 1.4701            D(x): 0.65, D(G(z)): 0.31\n",
      "Epoch [220/300], d_loss: 1.2404, g_loss: 1.0844            D(x): 0.66, D(G(z)): 0.45\n",
      "Epoch [221/300], d_loss: 1.0541, g_loss: 1.3698            D(x): 0.66, D(G(z)): 0.36\n",
      "Epoch [222/300], d_loss: 0.9728, g_loss: 1.3687            D(x): 0.70, D(G(z)): 0.36\n",
      "Epoch [223/300], d_loss: 1.0598, g_loss: 1.1264            D(x): 0.71, D(G(z)): 0.42\n",
      "Epoch [224/300], d_loss: 1.1708, g_loss: 1.2169            D(x): 0.65, D(G(z)): 0.40\n",
      "Epoch [225/300], d_loss: 0.9080, g_loss: 1.2670            D(x): 0.71, D(G(z)): 0.37\n"
     ]
    }
   ],
   "source": [
    "total_step = len(train_loader)\n",
    "for epoch in range(EPOCHS):\n",
    "    for i, (images, _) in enumerate(train_loader):\n",
    "        images = images.reshape(BATCH_SIZE, -1).to(DEVICE)\n",
    "        \n",
    "        real_labels = torch.ones(BATCH_SIZE, 1).to(DEVICE)\n",
    "        fake_labels = torch.zeros(BATCH_SIZE, 1).to(DEVICE)\n",
    "        \n",
    "        outputs = D(images)\n",
    "        d_loss_real = criterion(outputs, real_labels)\n",
    "        real_score = outputs\n",
    "        \n",
    "        Z = torch.randn(BATCH_SIZE, 64).to(DEVICE)\n",
    "        fake_images = G(Z)\n",
    "        \n",
    "        outputs = D(fake_images)\n",
    "        d_loss_fake = criterion(outputs, fake_labels)\n",
    "        fake_score = outputs\n",
    "        \n",
    "        d_loss = d_loss_real + d_loss_fake\n",
    "        \n",
    "        d_optimizer.zero_grad()\n",
    "        g_optimizer.zero_grad()\n",
    "        d_loss.backward()\n",
    "        d_optimizer.step()\n",
    "        \n",
    "        fake_images = G(Z)\n",
    "        outputs = D(fake_images)\n",
    "        g_loss = criterion(outputs, real_labels)\n",
    "        \n",
    "        d_optimizer.zero_grad()\n",
    "        g_optimizer.zero_grad()\n",
    "        g_loss.backward()\n",
    "        g_optimizer.step()\n",
    "    \n",
    "    print(f\"Epoch [{epoch}/{EPOCHS}], d_loss: {d_loss.item():.4f}, g_loss: {g_loss.item():.4f}\\\n",
    "            D(x): {real_score.mean().item():.2f}, D(G(z)): {fake_score.mean().item():.2f}\")\n",
    "\n",
    "z = torch.randn(BATCH_SIZE, 64).to(DEVICE)\n",
    "fake_images = G(z)\n",
    "fake_images_cpu = fake_images.data.cpu().numpy()\n",
    "for i in range(10):\n",
    "    fake_images_img = np.reshape(fake_images_cpu[i], (28, 28))\n",
    "    plt.imshow(fake_images_img, cmap = 'gray')\n",
    "    plt.show()"
   ]
  },
  {
   "cell_type": "code",
   "execution_count": null,
   "metadata": {},
   "outputs": [],
   "source": []
  },
  {
   "cell_type": "code",
   "execution_count": null,
   "metadata": {},
   "outputs": [],
   "source": []
  }
 ],
 "metadata": {
  "kernelspec": {
   "display_name": "Python 3",
   "language": "python",
   "name": "python3"
  },
  "language_info": {
   "codemirror_mode": {
    "name": "ipython",
    "version": 3
   },
   "file_extension": ".py",
   "mimetype": "text/x-python",
   "name": "python",
   "nbconvert_exporter": "python",
   "pygments_lexer": "ipython3",
   "version": "3.7.4"
  }
 },
 "nbformat": 4,
 "nbformat_minor": 4
}
